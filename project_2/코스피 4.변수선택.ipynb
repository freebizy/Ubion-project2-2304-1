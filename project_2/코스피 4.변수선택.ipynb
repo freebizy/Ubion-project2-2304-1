{
 "cells": [
  {
   "cell_type": "code",
   "execution_count": 55,
   "metadata": {},
   "outputs": [],
   "source": [
    "import pandas as pd \n",
    "import numpy as np\n",
    "import matplotlib.pyplot as plt\n",
    "import seaborn as sns\n",
    "\n",
    "from sklearn.discriminant_analysis import LinearDiscriminantAnalysis\n",
    "from sklearn.linear_model import LogisticRegression\n",
    "from sklearn.naive_bayes import GaussianNB\n",
    "\n",
    "from sklearn.ensemble import RandomForestClassifier\n",
    "from xgboost import XGBClassifier\n",
    "\n",
    "from sklearn.feature_selection import SelectFromModel,SequentialFeatureSelector\n",
    "\n",
    "from sklearn.metrics import f1_score,accuracy_score,recall_score,precision_score,confusion_matrix,roc_auc_score\n",
    "\n",
    "import warnings\n",
    "warnings.simplefilter('ignore')"
   ]
  },
  {
   "cell_type": "code",
   "execution_count": 56,
   "metadata": {},
   "outputs": [],
   "source": [
    "def model_basic(x_train, y_train, x_test, y_test):\n",
    "    models = [\n",
    "        LogisticRegression(),\n",
    "        LinearDiscriminantAnalysis(),\n",
    "        GaussianNB(),\n",
    "        RandomForestClassifier(),\n",
    "        XGBClassifier(),\n",
    "        \n",
    "    ]\n",
    "\n",
    "    rdict = {'model': [], 'accuracy': [], 'precision': [], 'recall': [], 'f1_score': [], 'auc_score': []}\n",
    "\n",
    "    for clf in models:\n",
    "        clf = clf.fit(x_train, y_train)\n",
    "        pred = clf.predict(x_test)\n",
    "        pred_prob_rf = clf.predict_proba(x_test)[:, 1].reshape(-1, 1)\n",
    "        auc_score = roc_auc_score(y_test, pred_prob_rf)\n",
    "        results = (\n",
    "            round(accuracy_score(y_test, pred), 4),\n",
    "            round(precision_score(y_test, pred), 4),\n",
    "            round(recall_score(y_test, pred), 4),\n",
    "            round(f1_score(y_test, pred), 4),\n",
    "            round(auc_score, 4)\n",
    "        )\n",
    "\n",
    "        rdict['model'].append(clf)\n",
    "        rdict['accuracy'].append(results[0])\n",
    "        rdict['precision'].append(results[1])\n",
    "        rdict['recall'].append(results[2])\n",
    "        rdict['f1_score'].append(results[3])\n",
    "        rdict['auc_score'].append(results[4])\n",
    "\n",
    "        confusion = confusion_matrix(y_test, pred)\n",
    "        print(confusion)\n",
    "\n",
    "    rdf = pd.DataFrame(data=rdict)\n",
    "    return rdf"
   ]
  },
  {
   "cell_type": "code",
   "execution_count": 57,
   "metadata": {},
   "outputs": [],
   "source": [
    "train = pd.read_csv('./datasets/통계검증완료/코스피_standard_train.csv',index_col=0)\n",
    "test =  pd.read_csv('./datasets/통계검증완료/코스피_standard_test.csv',index_col=0)"
   ]
  },
  {
   "cell_type": "code",
   "execution_count": 58,
   "metadata": {},
   "outputs": [],
   "source": [
    "# train = pd.read_csv('./datasets/통계검증완료/코스피_robu_train.csv',index_col=0)\n",
    "# test =  pd.read_csv('./datasets/통계검증완료/코스피_robu_test.csv',index_col=0)\n",
    "# np.random.RandomState(1)"
   ]
  },
  {
   "attachments": {},
   "cell_type": "markdown",
   "metadata": {},
   "source": [
    "---\n",
    "# 산업별 더미변수 - 제조업,건설업,정보통신업,그외\n",
    "---"
   ]
  },
  {
   "cell_type": "code",
   "execution_count": 59,
   "metadata": {},
   "outputs": [],
   "source": [
    "# train.loc[~(train['산업군'].str.contains('제조업') | train['산업군'].str.contains('건설업') | train['산업군'].str.contains('정보통신업')), '산업군'] = '그 외'\n",
    "# dummy_df = pd.get_dummies(train['산업군'])\n",
    "# train = pd.concat([train,dummy_df],axis=1)"
   ]
  },
  {
   "cell_type": "code",
   "execution_count": 60,
   "metadata": {},
   "outputs": [],
   "source": [
    "# test.loc[~(test['산업군'].str.contains('제조업') | test['산업군'].str.contains('건설업') | test['산업군'].str.contains('정보통신업')), '산업군'] = '그 외'\n",
    "# dummy_df = pd.get_dummies(test['산업군'])\n",
    "# test = pd.concat([test,dummy_df],axis=1)"
   ]
  },
  {
   "attachments": {},
   "cell_type": "markdown",
   "metadata": {},
   "source": [
    "----"
   ]
  },
  {
   "cell_type": "code",
   "execution_count": 61,
   "metadata": {},
   "outputs": [
    {
     "data": {
      "text/plain": [
       "Index(['회사명', '거래소코드', '회계년도', '산업군', 'target_1', 'target_2', 'target_3',\n",
       "       '현금흐름/총부채비율', '총자본정상영업이익률', '총자본순이익률', '현금흐름 대 자산', '타인자본회전률', '총자본회전률',\n",
       "       '차입금의존도', 'EBITDA마진율', '누적수익성비율', '순운전자본비율', 'TMD', '자기자본순이익률', '부채비율',\n",
       "       '금융비용부담률', '외국인지분율', '당기전기영업손익', 'ROA변화율', '총자본증가율', '매출액총이익률',\n",
       "       '매출액증가율', '영업현금흐름-단기차입금', '자본금회전률', '대주주지분율', '정상영업이익증가율'],\n",
       "      dtype='object')"
      ]
     },
     "execution_count": 61,
     "metadata": {},
     "output_type": "execute_result"
    }
   ],
   "source": [
    "train.columns"
   ]
  },
  {
   "cell_type": "code",
   "execution_count": 62,
   "metadata": {},
   "outputs": [],
   "source": [
    "col_int =['현금흐름/총부채비율', '총자본정상영업이익률', '총자본순이익률', '현금흐름 대 자산', '타인자본회전률', '총자본회전률',\n",
    "       '차입금의존도', 'EBITDA마진율', '누적수익성비율', '순운전자본비율', 'TMD', '자기자본순이익률', '부채비율',\n",
    "       '금융비용부담률', '외국인지분율', '당기전기영업손익', 'ROA변화율', '총자본증가율', '매출액총이익률',\n",
    "       '매출액증가율', '영업현금흐름-단기차입금', '자본금회전률', '대주주지분율', '정상영업이익증가율']"
   ]
  },
  {
   "attachments": {},
   "cell_type": "markdown",
   "metadata": {},
   "source": [
    "---\n",
    "#target1\n",
    "---"
   ]
  },
  {
   "cell_type": "code",
   "execution_count": 63,
   "metadata": {},
   "outputs": [],
   "source": [
    "x_train = train[col_int]\n",
    "y_train = train[['target_1']]\n",
    "\n",
    "x_test = test[col_int]\n",
    "y_test = test[['target_1']]"
   ]
  },
  {
   "cell_type": "code",
   "execution_count": 64,
   "metadata": {},
   "outputs": [],
   "source": [
    "#  선정된 피쳐를 저장하기 위한 데이터프레임 생성 \n",
    "df_select = pd.DataFrame()\n",
    "# 생성된 데이터프레임의 인덱스 지정\n",
    "df_select.index = x_train.columns"
   ]
  },
  {
   "attachments": {},
   "cell_type": "markdown",
   "metadata": {},
   "source": [
    "---\n",
    "# lasso - 임베디드기법\n",
    "---"
   ]
  },
  {
   "cell_type": "code",
   "execution_count": 65,
   "metadata": {},
   "outputs": [],
   "source": [
    "#  lasso\n",
    "selector = SelectFromModel(estimator=LogisticRegression(penalty='l1',solver='liblinear',C=0.01)).fit(x_train, y_train)\n",
    "df_select[\"lasso_0.01\"] = selector.get_support()\n",
    "\n",
    "selector = SelectFromModel(estimator=LogisticRegression(penalty='l1',solver='liblinear',C=0.05)).fit(x_train, y_train)\n",
    "df_select[\"lasso_0.05\"] = selector.get_support()\n",
    "\n",
    "selector = SelectFromModel(estimator=LogisticRegression(penalty='l1',solver='liblinear',C=0.1)).fit(x_train, y_train)\n",
    "df_select[\"lasso_0.1\"] = selector.get_support()\n"
   ]
  },
  {
   "attachments": {},
   "cell_type": "markdown",
   "metadata": {},
   "source": [
    "---\n",
    "# stepwise - 래퍼기법\n",
    "---"
   ]
  },
  {
   "cell_type": "code",
   "execution_count": 66,
   "metadata": {},
   "outputs": [],
   "source": [
    "# logit foward\n",
    "estimator = LogisticRegression(penalty='l1',solver='liblinear',C=0.05)\n",
    "selector = SequentialFeatureSelector(estimator,direction='forward',cv=5,n_jobs=-1)\n",
    "selector.fit(x_train, y_train)\n",
    "df_select['logit_fwd'] = selector.get_support().tolist()\n",
    "# logit backward\n",
    "selector = SequentialFeatureSelector(estimator,direction='backward',cv=5,n_jobs=-1)\n",
    "selector.fit(x_train, y_train)\n",
    "df_select['logit_bwd'] = selector.get_support().tolist()"
   ]
  },
  {
   "cell_type": "code",
   "execution_count": 67,
   "metadata": {},
   "outputs": [],
   "source": [
    "# lda foward\n",
    "estimator = LinearDiscriminantAnalysis(solver='svd')\n",
    "selector = SequentialFeatureSelector(estimator,direction='forward',cv=5,n_jobs=-1)\n",
    "selector.fit(x_train, y_train)\n",
    "df_select['lda_fwd'] = selector.get_support().tolist()\n",
    "# lda backward\n",
    "selector = SequentialFeatureSelector(estimator,direction='backward',cv=5,n_jobs=-1,)\n",
    "selector.fit(x_train, y_train)\n",
    "df_select['lda_bwd'] = selector.get_support().tolist()"
   ]
  },
  {
   "attachments": {},
   "cell_type": "markdown",
   "metadata": {},
   "source": [
    "---\n",
    "## 비모수적 방법\n",
    "---"
   ]
  },
  {
   "cell_type": "code",
   "execution_count": 68,
   "metadata": {},
   "outputs": [],
   "source": [
    "# # RandomForest_foward\n",
    "# estimator = RandomForestClassifier()\n",
    "# selector = SequentialFeatureSelector(estimator,direction='forward',cv=2,n_jobs=-1)\n",
    "# selector.fit(x_train, y_train)\n",
    "# df_select['RFC_fwd'] = selector.get_support().tolist()\n",
    "# # RandomForest _ backward\n",
    "# selector = SequentialFeatureSelector(estimator,direction='backward',cv=2,n_jobs=-1)\n",
    "# selector.fit(x_train, y_train)\n",
    "# df_select['RFC_bwd'] = selector.get_support().tolist()"
   ]
  },
  {
   "attachments": {},
   "cell_type": "markdown",
   "metadata": {},
   "source": [
    "---\n",
    "## 최종 select\n",
    "---"
   ]
  },
  {
   "cell_type": "code",
   "execution_count": 69,
   "metadata": {},
   "outputs": [
    {
     "data": {
      "text/plain": [
       "Index(['EBITDA마진율', '누적수익성비율', 'TMD', '자기자본순이익률', '금융비용부담률', '정상영업이익증가율'], dtype='object')"
      ]
     },
     "execution_count": 69,
     "metadata": {},
     "output_type": "execute_result"
    }
   ],
   "source": [
    "for col in df_select.columns.to_list():\n",
    "    df_select[col] = df_select[col].apply(lambda x : 1 if x==True else 0)\n",
    "df_select['total'] = df_select.sum(axis=1)\n",
    "df_select[df_select['total']>=4].index"
   ]
  },
  {
   "cell_type": "code",
   "execution_count": 70,
   "metadata": {},
   "outputs": [
    {
     "data": {
      "text/html": [
       "<div>\n",
       "<style scoped>\n",
       "    .dataframe tbody tr th:only-of-type {\n",
       "        vertical-align: middle;\n",
       "    }\n",
       "\n",
       "    .dataframe tbody tr th {\n",
       "        vertical-align: top;\n",
       "    }\n",
       "\n",
       "    .dataframe thead th {\n",
       "        text-align: right;\n",
       "    }\n",
       "</style>\n",
       "<table border=\"1\" class=\"dataframe\">\n",
       "  <thead>\n",
       "    <tr style=\"text-align: right;\">\n",
       "      <th></th>\n",
       "      <th>lasso_0.01</th>\n",
       "      <th>lasso_0.05</th>\n",
       "      <th>lasso_0.1</th>\n",
       "      <th>logit_fwd</th>\n",
       "      <th>logit_bwd</th>\n",
       "      <th>lda_fwd</th>\n",
       "      <th>lda_bwd</th>\n",
       "      <th>total</th>\n",
       "    </tr>\n",
       "  </thead>\n",
       "  <tbody>\n",
       "    <tr>\n",
       "      <th>EBITDA마진율</th>\n",
       "      <td>1</td>\n",
       "      <td>1</td>\n",
       "      <td>1</td>\n",
       "      <td>0</td>\n",
       "      <td>0</td>\n",
       "      <td>1</td>\n",
       "      <td>0</td>\n",
       "      <td>4</td>\n",
       "    </tr>\n",
       "    <tr>\n",
       "      <th>누적수익성비율</th>\n",
       "      <td>1</td>\n",
       "      <td>1</td>\n",
       "      <td>1</td>\n",
       "      <td>1</td>\n",
       "      <td>1</td>\n",
       "      <td>0</td>\n",
       "      <td>1</td>\n",
       "      <td>6</td>\n",
       "    </tr>\n",
       "    <tr>\n",
       "      <th>TMD</th>\n",
       "      <td>1</td>\n",
       "      <td>1</td>\n",
       "      <td>1</td>\n",
       "      <td>1</td>\n",
       "      <td>1</td>\n",
       "      <td>0</td>\n",
       "      <td>1</td>\n",
       "      <td>6</td>\n",
       "    </tr>\n",
       "    <tr>\n",
       "      <th>자기자본순이익률</th>\n",
       "      <td>1</td>\n",
       "      <td>1</td>\n",
       "      <td>1</td>\n",
       "      <td>1</td>\n",
       "      <td>0</td>\n",
       "      <td>1</td>\n",
       "      <td>1</td>\n",
       "      <td>6</td>\n",
       "    </tr>\n",
       "    <tr>\n",
       "      <th>금융비용부담률</th>\n",
       "      <td>1</td>\n",
       "      <td>1</td>\n",
       "      <td>1</td>\n",
       "      <td>1</td>\n",
       "      <td>1</td>\n",
       "      <td>1</td>\n",
       "      <td>1</td>\n",
       "      <td>7</td>\n",
       "    </tr>\n",
       "    <tr>\n",
       "      <th>정상영업이익증가율</th>\n",
       "      <td>0</td>\n",
       "      <td>1</td>\n",
       "      <td>1</td>\n",
       "      <td>0</td>\n",
       "      <td>1</td>\n",
       "      <td>0</td>\n",
       "      <td>1</td>\n",
       "      <td>4</td>\n",
       "    </tr>\n",
       "  </tbody>\n",
       "</table>\n",
       "</div>"
      ],
      "text/plain": [
       "           lasso_0.01  lasso_0.05  lasso_0.1  logit_fwd  logit_bwd  lda_fwd  \\\n",
       "EBITDA마진율           1           1          1          0          0        1   \n",
       "누적수익성비율             1           1          1          1          1        0   \n",
       "TMD                 1           1          1          1          1        0   \n",
       "자기자본순이익률            1           1          1          1          0        1   \n",
       "금융비용부담률             1           1          1          1          1        1   \n",
       "정상영업이익증가율           0           1          1          0          1        0   \n",
       "\n",
       "           lda_bwd  total  \n",
       "EBITDA마진율        0      4  \n",
       "누적수익성비율          1      6  \n",
       "TMD              1      6  \n",
       "자기자본순이익률         1      6  \n",
       "금융비용부담률          1      7  \n",
       "정상영업이익증가율        1      4  "
      ]
     },
     "execution_count": 70,
     "metadata": {},
     "output_type": "execute_result"
    }
   ],
   "source": [
    "df_select[df_select['total']>=4]"
   ]
  },
  {
   "cell_type": "code",
   "execution_count": 71,
   "metadata": {},
   "outputs": [],
   "source": [
    "최종_col =df_select[df_select['total']>=4].index.to_list()\n",
    "\n",
    "\n",
    "# 최종_col_1=['이익잉여금', 'EBITDA마진율', '누적수익성비율', '자기자본순이익률', '금융비용부담률',\n",
    "#        'abs(영업현금흐름-당기순이익)/매출액', '매출액증가율','총자본증가율']\n",
    "\n",
    "x_train_1 = x_train[최종_col]\n",
    "x_test_1 = x_test[최종_col]"
   ]
  },
  {
   "cell_type": "code",
   "execution_count": 72,
   "metadata": {},
   "outputs": [
    {
     "data": {
      "text/plain": [
       "<AxesSubplot:title={'center':'Correlation of Features'}>"
      ]
     },
     "execution_count": 72,
     "metadata": {},
     "output_type": "execute_result"
    },
    {
     "data": {
      "image/png": "[encoded data removed]",
      "text/plain": [
       "<Figure size 2000x2000 with 2 Axes>"
      ]
     },
     "metadata": {},
     "output_type": "display_data"
    }
   ],
   "source": [
    "colormap = plt.cm.hot\n",
    "\n",
    "corr = x_train_1.corr()\n",
    "mask = np.triu(np.ones_like(corr, dtype=np.bool))\n",
    "plt.figure(figsize=(20, 20))\n",
    "plt.rcParams['axes.unicode_minus'] = False\n",
    "plt.rc('font', family=\"Malgun Gothic\")\n",
    "plt.title(\"Correlation of Features\", y=1.05, size=15)\n",
    "sns.heatmap(corr,  linewidths=0.1, vmax=1.0, vmin=-1.0, square=True,mask=mask,\n",
    "            cmap='RdYlBu_r', linecolor=\"white\", annot=True, annot_kws={'size': 10})"
   ]
  },
  {
   "cell_type": "code",
   "execution_count": 73,
   "metadata": {},
   "outputs": [
    {
     "name": "stdout",
     "output_type": "stream",
     "text": [
      "[[3425    3]\n",
      " [  11   29]]\n",
      "[[3426    2]\n",
      " [  12   28]]\n",
      "[[3333   95]\n",
      " [   6   34]]\n",
      "[[3428    0]\n",
      " [   0   40]]\n",
      "[[3428    0]\n",
      " [   0   40]]\n"
     ]
    },
    {
     "data": {
      "text/html": [
       "<div>\n",
       "<style scoped>\n",
       "    .dataframe tbody tr th:only-of-type {\n",
       "        vertical-align: middle;\n",
       "    }\n",
       "\n",
       "    .dataframe tbody tr th {\n",
       "        vertical-align: top;\n",
       "    }\n",
       "\n",
       "    .dataframe thead th {\n",
       "        text-align: right;\n",
       "    }\n",
       "</style>\n",
       "<table border=\"1\" class=\"dataframe\">\n",
       "  <thead>\n",
       "    <tr style=\"text-align: right;\">\n",
       "      <th></th>\n",
       "      <th>model</th>\n",
       "      <th>accuracy</th>\n",
       "      <th>precision</th>\n",
       "      <th>recall</th>\n",
       "      <th>f1_score</th>\n",
       "      <th>auc_score</th>\n",
       "    </tr>\n",
       "  </thead>\n",
       "  <tbody>\n",
       "    <tr>\n",
       "      <th>0</th>\n",
       "      <td>LogisticRegression()</td>\n",
       "      <td>0.9960</td>\n",
       "      <td>0.9062</td>\n",
       "      <td>0.725</td>\n",
       "      <td>0.8056</td>\n",
       "      <td>0.9918</td>\n",
       "    </tr>\n",
       "    <tr>\n",
       "      <th>1</th>\n",
       "      <td>LinearDiscriminantAnalysis()</td>\n",
       "      <td>0.9960</td>\n",
       "      <td>0.9333</td>\n",
       "      <td>0.700</td>\n",
       "      <td>0.8000</td>\n",
       "      <td>0.9841</td>\n",
       "    </tr>\n",
       "    <tr>\n",
       "      <th>2</th>\n",
       "      <td>GaussianNB()</td>\n",
       "      <td>0.9709</td>\n",
       "      <td>0.2636</td>\n",
       "      <td>0.850</td>\n",
       "      <td>0.4024</td>\n",
       "      <td>0.9855</td>\n",
       "    </tr>\n",
       "    <tr>\n",
       "      <th>3</th>\n",
       "      <td>(DecisionTreeClassifier(max_features='sqrt', r...</td>\n",
       "      <td>1.0000</td>\n",
       "      <td>1.0000</td>\n",
       "      <td>1.000</td>\n",
       "      <td>1.0000</td>\n",
       "      <td>1.0000</td>\n",
       "    </tr>\n",
       "    <tr>\n",
       "      <th>4</th>\n",
       "      <td>XGBClassifier(base_score=None, booster=None, c...</td>\n",
       "      <td>1.0000</td>\n",
       "      <td>1.0000</td>\n",
       "      <td>1.000</td>\n",
       "      <td>1.0000</td>\n",
       "      <td>1.0000</td>\n",
       "    </tr>\n",
       "  </tbody>\n",
       "</table>\n",
       "</div>"
      ],
      "text/plain": [
       "                                               model  accuracy  precision  \\\n",
       "0                               LogisticRegression()    0.9960     0.9062   \n",
       "1                       LinearDiscriminantAnalysis()    0.9960     0.9333   \n",
       "2                                       GaussianNB()    0.9709     0.2636   \n",
       "3  (DecisionTreeClassifier(max_features='sqrt', r...    1.0000     1.0000   \n",
       "4  XGBClassifier(base_score=None, booster=None, c...    1.0000     1.0000   \n",
       "\n",
       "   recall  f1_score  auc_score  \n",
       "0   0.725    0.8056     0.9918  \n",
       "1   0.700    0.8000     0.9841  \n",
       "2   0.850    0.4024     0.9855  \n",
       "3   1.000    1.0000     1.0000  \n",
       "4   1.000    1.0000     1.0000  "
      ]
     },
     "execution_count": 73,
     "metadata": {},
     "output_type": "execute_result"
    }
   ],
   "source": [
    "model_basic(x_train_1,y_train,x_train_1,y_train)"
   ]
  },
  {
   "cell_type": "code",
   "execution_count": 74,
   "metadata": {},
   "outputs": [
    {
     "name": "stdout",
     "output_type": "stream",
     "text": [
      "[[1645    3]\n",
      " [   4    2]]\n",
      "[[1648    0]\n",
      " [   4    2]]\n",
      "[[1603   45]\n",
      " [   1    5]]\n",
      "[[1647    1]\n",
      " [   4    2]]\n",
      "[[1646    2]\n",
      " [   4    2]]\n"
     ]
    },
    {
     "data": {
      "text/html": [
       "<div>\n",
       "<style scoped>\n",
       "    .dataframe tbody tr th:only-of-type {\n",
       "        vertical-align: middle;\n",
       "    }\n",
       "\n",
       "    .dataframe tbody tr th {\n",
       "        vertical-align: top;\n",
       "    }\n",
       "\n",
       "    .dataframe thead th {\n",
       "        text-align: right;\n",
       "    }\n",
       "</style>\n",
       "<table border=\"1\" class=\"dataframe\">\n",
       "  <thead>\n",
       "    <tr style=\"text-align: right;\">\n",
       "      <th></th>\n",
       "      <th>model</th>\n",
       "      <th>accuracy</th>\n",
       "      <th>precision</th>\n",
       "      <th>recall</th>\n",
       "      <th>f1_score</th>\n",
       "      <th>auc_score</th>\n",
       "    </tr>\n",
       "  </thead>\n",
       "  <tbody>\n",
       "    <tr>\n",
       "      <th>0</th>\n",
       "      <td>LogisticRegression()</td>\n",
       "      <td>0.9958</td>\n",
       "      <td>0.4000</td>\n",
       "      <td>0.3333</td>\n",
       "      <td>0.3636</td>\n",
       "      <td>0.9932</td>\n",
       "    </tr>\n",
       "    <tr>\n",
       "      <th>1</th>\n",
       "      <td>LinearDiscriminantAnalysis()</td>\n",
       "      <td>0.9976</td>\n",
       "      <td>1.0000</td>\n",
       "      <td>0.3333</td>\n",
       "      <td>0.5000</td>\n",
       "      <td>0.9776</td>\n",
       "    </tr>\n",
       "    <tr>\n",
       "      <th>2</th>\n",
       "      <td>GaussianNB()</td>\n",
       "      <td>0.9722</td>\n",
       "      <td>0.1000</td>\n",
       "      <td>0.8333</td>\n",
       "      <td>0.1786</td>\n",
       "      <td>0.9803</td>\n",
       "    </tr>\n",
       "    <tr>\n",
       "      <th>3</th>\n",
       "      <td>(DecisionTreeClassifier(max_features='sqrt', r...</td>\n",
       "      <td>0.9970</td>\n",
       "      <td>0.6667</td>\n",
       "      <td>0.3333</td>\n",
       "      <td>0.4444</td>\n",
       "      <td>0.9060</td>\n",
       "    </tr>\n",
       "    <tr>\n",
       "      <th>4</th>\n",
       "      <td>XGBClassifier(base_score=None, booster=None, c...</td>\n",
       "      <td>0.9964</td>\n",
       "      <td>0.5000</td>\n",
       "      <td>0.3333</td>\n",
       "      <td>0.4000</td>\n",
       "      <td>0.9876</td>\n",
       "    </tr>\n",
       "  </tbody>\n",
       "</table>\n",
       "</div>"
      ],
      "text/plain": [
       "                                               model  accuracy  precision  \\\n",
       "0                               LogisticRegression()    0.9958     0.4000   \n",
       "1                       LinearDiscriminantAnalysis()    0.9976     1.0000   \n",
       "2                                       GaussianNB()    0.9722     0.1000   \n",
       "3  (DecisionTreeClassifier(max_features='sqrt', r...    0.9970     0.6667   \n",
       "4  XGBClassifier(base_score=None, booster=None, c...    0.9964     0.5000   \n",
       "\n",
       "   recall  f1_score  auc_score  \n",
       "0  0.3333    0.3636     0.9932  \n",
       "1  0.3333    0.5000     0.9776  \n",
       "2  0.8333    0.1786     0.9803  \n",
       "3  0.3333    0.4444     0.9060  \n",
       "4  0.3333    0.4000     0.9876  "
      ]
     },
     "execution_count": 74,
     "metadata": {},
     "output_type": "execute_result"
    }
   ],
   "source": [
    "model_basic(x_train_1,y_train,x_test_1,y_test)"
   ]
  },
  {
   "attachments": {},
   "cell_type": "markdown",
   "metadata": {},
   "source": [
    "-----\n",
    "# target2"
   ]
  },
  {
   "cell_type": "code",
   "execution_count": 75,
   "metadata": {},
   "outputs": [],
   "source": [
    "x_train = train[col_int]\n",
    "y_train = train[['target_2']]\n",
    "\n",
    "x_test = test[col_int]\n",
    "y_test = test[['target_2']]\n",
    "\n",
    "#  선정된 피쳐를 저장하기 위한 데이터프레임 생성 \n",
    "df_select_2 = pd.DataFrame()\n",
    "# 생성된 데이터프레임의 인덱스 지정\n",
    "df_select_2.index = x_train.columns"
   ]
  },
  {
   "cell_type": "code",
   "execution_count": 76,
   "metadata": {},
   "outputs": [],
   "source": [
    "#  lasso\n",
    "selector = SelectFromModel(estimator=LogisticRegression(penalty='l1',solver='liblinear',C=0.01)).fit(x_train, y_train)\n",
    "df_select_2[\"lasso_0.01\"] = selector.get_support()\n",
    "\n",
    "selector = SelectFromModel(estimator=LogisticRegression(penalty='l1',solver='liblinear',C=0.05)).fit(x_train, y_train)\n",
    "df_select_2[\"lasso_0.05\"] = selector.get_support()\n",
    "\n",
    "selector = SelectFromModel(estimator=LogisticRegression(penalty='l1',solver='liblinear',C=0.1)).fit(x_train, y_train)\n",
    "df_select_2[\"lasso_0.1\"] = selector.get_support()\n",
    "\n",
    "# logit foward\n",
    "estimator = LogisticRegression(penalty='l1',solver='liblinear',C=0.05)\n",
    "selector = SequentialFeatureSelector(estimator,direction='forward',cv=5,n_jobs=-1)\n",
    "selector.fit(x_train, y_train)\n",
    "df_select_2['logit_fwd'] = selector.get_support().tolist()\n",
    "# logit backward\n",
    "selector = SequentialFeatureSelector(estimator,direction='backward',cv=5,n_jobs=-1)\n",
    "selector.fit(x_train, y_train)\n",
    "df_select_2['logit_bwd'] = selector.get_support().tolist()\n",
    "\n",
    "\n",
    "# lda foward\n",
    "estimator = LinearDiscriminantAnalysis(solver='svd')\n",
    "selector = SequentialFeatureSelector(estimator,direction='forward',cv=5,n_jobs=-1)\n",
    "selector.fit(x_train, y_train)\n",
    "df_select_2['lda_fwd'] = selector.get_support().tolist()\n",
    "# lda backward\n",
    "selector = SequentialFeatureSelector(estimator,direction='backward',cv=5,n_jobs=-1,)\n",
    "selector.fit(x_train, y_train)\n",
    "df_select_2['lda_bwd'] = selector.get_support().tolist()\n",
    "\n",
    "# # RandomForest_foward\n",
    "# estimator = RandomForestClassifier()\n",
    "# selector = SequentialFeatureSelector(estimator,direction='forward',cv=2,n_jobs=-1)\n",
    "# selector.fit(x_train, y_train)\n",
    "# df_select_2['RFC_fwd'] = selector.get_support().tolist()\n",
    "# # RandomForest _ backward\n",
    "# selector = SequentialFeatureSelector(estimator,direction='backward',cv=2,n_jobs=-1)\n",
    "# selector.fit(x_train, y_train)\n",
    "# df_select_2['RFC_bwd'] = selector.get_support().tolist()"
   ]
  },
  {
   "cell_type": "code",
   "execution_count": 77,
   "metadata": {},
   "outputs": [
    {
     "data": {
      "text/plain": [
       "Index(['EBITDA마진율', '누적수익성비율', 'TMD', '자기자본순이익률', '금융비용부담률', '정상영업이익증가율'], dtype='object')"
      ]
     },
     "execution_count": 77,
     "metadata": {},
     "output_type": "execute_result"
    }
   ],
   "source": [
    "for col in df_select_2.columns.to_list():\n",
    "    df_select_2[col] = df_select_2[col].apply(lambda x : 1 if x==True else 0)\n",
    "df_select_2['total'] = df_select_2.sum(axis=1)\n",
    "df_select_2[df_select_2['total']>=4].index"
   ]
  },
  {
   "cell_type": "code",
   "execution_count": 78,
   "metadata": {},
   "outputs": [
    {
     "data": {
      "text/html": [
       "<div>\n",
       "<style scoped>\n",
       "    .dataframe tbody tr th:only-of-type {\n",
       "        vertical-align: middle;\n",
       "    }\n",
       "\n",
       "    .dataframe tbody tr th {\n",
       "        vertical-align: top;\n",
       "    }\n",
       "\n",
       "    .dataframe thead th {\n",
       "        text-align: right;\n",
       "    }\n",
       "</style>\n",
       "<table border=\"1\" class=\"dataframe\">\n",
       "  <thead>\n",
       "    <tr style=\"text-align: right;\">\n",
       "      <th></th>\n",
       "      <th>lasso_0.01</th>\n",
       "      <th>lasso_0.05</th>\n",
       "      <th>lasso_0.1</th>\n",
       "      <th>logit_fwd</th>\n",
       "      <th>logit_bwd</th>\n",
       "      <th>lda_fwd</th>\n",
       "      <th>lda_bwd</th>\n",
       "      <th>total</th>\n",
       "    </tr>\n",
       "  </thead>\n",
       "  <tbody>\n",
       "    <tr>\n",
       "      <th>EBITDA마진율</th>\n",
       "      <td>1</td>\n",
       "      <td>1</td>\n",
       "      <td>1</td>\n",
       "      <td>0</td>\n",
       "      <td>0</td>\n",
       "      <td>1</td>\n",
       "      <td>0</td>\n",
       "      <td>4</td>\n",
       "    </tr>\n",
       "    <tr>\n",
       "      <th>누적수익성비율</th>\n",
       "      <td>1</td>\n",
       "      <td>1</td>\n",
       "      <td>1</td>\n",
       "      <td>1</td>\n",
       "      <td>1</td>\n",
       "      <td>0</td>\n",
       "      <td>1</td>\n",
       "      <td>6</td>\n",
       "    </tr>\n",
       "    <tr>\n",
       "      <th>TMD</th>\n",
       "      <td>1</td>\n",
       "      <td>1</td>\n",
       "      <td>1</td>\n",
       "      <td>1</td>\n",
       "      <td>1</td>\n",
       "      <td>0</td>\n",
       "      <td>1</td>\n",
       "      <td>6</td>\n",
       "    </tr>\n",
       "    <tr>\n",
       "      <th>자기자본순이익률</th>\n",
       "      <td>1</td>\n",
       "      <td>1</td>\n",
       "      <td>1</td>\n",
       "      <td>1</td>\n",
       "      <td>0</td>\n",
       "      <td>1</td>\n",
       "      <td>1</td>\n",
       "      <td>6</td>\n",
       "    </tr>\n",
       "    <tr>\n",
       "      <th>금융비용부담률</th>\n",
       "      <td>1</td>\n",
       "      <td>1</td>\n",
       "      <td>1</td>\n",
       "      <td>1</td>\n",
       "      <td>1</td>\n",
       "      <td>1</td>\n",
       "      <td>1</td>\n",
       "      <td>7</td>\n",
       "    </tr>\n",
       "    <tr>\n",
       "      <th>정상영업이익증가율</th>\n",
       "      <td>0</td>\n",
       "      <td>1</td>\n",
       "      <td>1</td>\n",
       "      <td>0</td>\n",
       "      <td>1</td>\n",
       "      <td>0</td>\n",
       "      <td>1</td>\n",
       "      <td>4</td>\n",
       "    </tr>\n",
       "  </tbody>\n",
       "</table>\n",
       "</div>"
      ],
      "text/plain": [
       "           lasso_0.01  lasso_0.05  lasso_0.1  logit_fwd  logit_bwd  lda_fwd  \\\n",
       "EBITDA마진율           1           1          1          0          0        1   \n",
       "누적수익성비율             1           1          1          1          1        0   \n",
       "TMD                 1           1          1          1          1        0   \n",
       "자기자본순이익률            1           1          1          1          0        1   \n",
       "금융비용부담률             1           1          1          1          1        1   \n",
       "정상영업이익증가율           0           1          1          0          1        0   \n",
       "\n",
       "           lda_bwd  total  \n",
       "EBITDA마진율        0      4  \n",
       "누적수익성비율          1      6  \n",
       "TMD              1      6  \n",
       "자기자본순이익률         1      6  \n",
       "금융비용부담률          1      7  \n",
       "정상영업이익증가율        1      4  "
      ]
     },
     "execution_count": 78,
     "metadata": {},
     "output_type": "execute_result"
    }
   ],
   "source": [
    "df_select_2[df_select_2['total']>=4]"
   ]
  },
  {
   "cell_type": "code",
   "execution_count": 79,
   "metadata": {},
   "outputs": [],
   "source": [
    "최종_col =df_select_2[df_select_2['total']>=4].index.to_list()\n",
    "\n",
    "x_train_2 = x_train[최종_col]\n",
    "x_test_2 = x_test[최종_col]"
   ]
  },
  {
   "cell_type": "code",
   "execution_count": 80,
   "metadata": {},
   "outputs": [
    {
     "data": {
      "text/plain": [
       "<AxesSubplot:title={'center':'Correlation of Features'}>"
      ]
     },
     "execution_count": 80,
     "metadata": {},
     "output_type": "execute_result"
    },
    {
     "data": {
      "image/png": "[encoded data removed]",
      "text/plain": [
       "<Figure size 2000x2000 with 2 Axes>"
      ]
     },
     "metadata": {},
     "output_type": "display_data"
    }
   ],
   "source": [
    "colormap = plt.cm.hot\n",
    "\n",
    "corr = x_train_2.corr()\n",
    "mask = np.triu(np.ones_like(corr, dtype=np.bool))\n",
    "plt.figure(figsize=(20, 20))\n",
    "plt.rcParams['axes.unicode_minus'] = False\n",
    "plt.rc('font', family=\"Malgun Gothic\")\n",
    "plt.title(\"Correlation of Features\", y=1.05, size=15)\n",
    "sns.heatmap(corr,  linewidths=0.1, vmax=1.0, vmin=-1.0, square=True,mask=mask,\n",
    "            cmap='RdYlBu_r', linecolor=\"white\", annot=True, annot_kws={'size': 10})"
   ]
  },
  {
   "cell_type": "code",
   "execution_count": 81,
   "metadata": {},
   "outputs": [
    {
     "name": "stdout",
     "output_type": "stream",
     "text": [
      "[[3425    3]\n",
      " [  11   29]]\n",
      "[[3426    2]\n",
      " [  12   28]]\n",
      "[[3333   95]\n",
      " [   6   34]]\n",
      "[[3428    0]\n",
      " [   1   39]]\n",
      "[[3428    0]\n",
      " [   0   40]]\n"
     ]
    },
    {
     "data": {
      "text/html": [
       "<div>\n",
       "<style scoped>\n",
       "    .dataframe tbody tr th:only-of-type {\n",
       "        vertical-align: middle;\n",
       "    }\n",
       "\n",
       "    .dataframe tbody tr th {\n",
       "        vertical-align: top;\n",
       "    }\n",
       "\n",
       "    .dataframe thead th {\n",
       "        text-align: right;\n",
       "    }\n",
       "</style>\n",
       "<table border=\"1\" class=\"dataframe\">\n",
       "  <thead>\n",
       "    <tr style=\"text-align: right;\">\n",
       "      <th></th>\n",
       "      <th>model</th>\n",
       "      <th>accuracy</th>\n",
       "      <th>precision</th>\n",
       "      <th>recall</th>\n",
       "      <th>f1_score</th>\n",
       "      <th>auc_score</th>\n",
       "    </tr>\n",
       "  </thead>\n",
       "  <tbody>\n",
       "    <tr>\n",
       "      <th>0</th>\n",
       "      <td>LogisticRegression()</td>\n",
       "      <td>0.9960</td>\n",
       "      <td>0.9062</td>\n",
       "      <td>0.725</td>\n",
       "      <td>0.8056</td>\n",
       "      <td>0.9918</td>\n",
       "    </tr>\n",
       "    <tr>\n",
       "      <th>1</th>\n",
       "      <td>LinearDiscriminantAnalysis()</td>\n",
       "      <td>0.9960</td>\n",
       "      <td>0.9333</td>\n",
       "      <td>0.700</td>\n",
       "      <td>0.8000</td>\n",
       "      <td>0.9841</td>\n",
       "    </tr>\n",
       "    <tr>\n",
       "      <th>2</th>\n",
       "      <td>GaussianNB()</td>\n",
       "      <td>0.9709</td>\n",
       "      <td>0.2636</td>\n",
       "      <td>0.850</td>\n",
       "      <td>0.4024</td>\n",
       "      <td>0.9855</td>\n",
       "    </tr>\n",
       "    <tr>\n",
       "      <th>3</th>\n",
       "      <td>(DecisionTreeClassifier(max_features='sqrt', r...</td>\n",
       "      <td>0.9997</td>\n",
       "      <td>1.0000</td>\n",
       "      <td>0.975</td>\n",
       "      <td>0.9873</td>\n",
       "      <td>1.0000</td>\n",
       "    </tr>\n",
       "    <tr>\n",
       "      <th>4</th>\n",
       "      <td>XGBClassifier(base_score=None, booster=None, c...</td>\n",
       "      <td>1.0000</td>\n",
       "      <td>1.0000</td>\n",
       "      <td>1.000</td>\n",
       "      <td>1.0000</td>\n",
       "      <td>1.0000</td>\n",
       "    </tr>\n",
       "  </tbody>\n",
       "</table>\n",
       "</div>"
      ],
      "text/plain": [
       "                                               model  accuracy  precision  \\\n",
       "0                               LogisticRegression()    0.9960     0.9062   \n",
       "1                       LinearDiscriminantAnalysis()    0.9960     0.9333   \n",
       "2                                       GaussianNB()    0.9709     0.2636   \n",
       "3  (DecisionTreeClassifier(max_features='sqrt', r...    0.9997     1.0000   \n",
       "4  XGBClassifier(base_score=None, booster=None, c...    1.0000     1.0000   \n",
       "\n",
       "   recall  f1_score  auc_score  \n",
       "0   0.725    0.8056     0.9918  \n",
       "1   0.700    0.8000     0.9841  \n",
       "2   0.850    0.4024     0.9855  \n",
       "3   0.975    0.9873     1.0000  \n",
       "4   1.000    1.0000     1.0000  "
      ]
     },
     "execution_count": 81,
     "metadata": {},
     "output_type": "execute_result"
    }
   ],
   "source": [
    "model_basic(x_train_2,y_train,x_train_2,y_train)"
   ]
  },
  {
   "cell_type": "code",
   "execution_count": 82,
   "metadata": {},
   "outputs": [
    {
     "name": "stdout",
     "output_type": "stream",
     "text": [
      "[[1645    3]\n",
      " [   4    2]]\n",
      "[[1648    0]\n",
      " [   4    2]]\n",
      "[[1603   45]\n",
      " [   1    5]]\n",
      "[[1648    0]\n",
      " [   4    2]]\n",
      "[[1646    2]\n",
      " [   4    2]]\n"
     ]
    },
    {
     "data": {
      "text/html": [
       "<div>\n",
       "<style scoped>\n",
       "    .dataframe tbody tr th:only-of-type {\n",
       "        vertical-align: middle;\n",
       "    }\n",
       "\n",
       "    .dataframe tbody tr th {\n",
       "        vertical-align: top;\n",
       "    }\n",
       "\n",
       "    .dataframe thead th {\n",
       "        text-align: right;\n",
       "    }\n",
       "</style>\n",
       "<table border=\"1\" class=\"dataframe\">\n",
       "  <thead>\n",
       "    <tr style=\"text-align: right;\">\n",
       "      <th></th>\n",
       "      <th>model</th>\n",
       "      <th>accuracy</th>\n",
       "      <th>precision</th>\n",
       "      <th>recall</th>\n",
       "      <th>f1_score</th>\n",
       "      <th>auc_score</th>\n",
       "    </tr>\n",
       "  </thead>\n",
       "  <tbody>\n",
       "    <tr>\n",
       "      <th>0</th>\n",
       "      <td>LogisticRegression()</td>\n",
       "      <td>0.9958</td>\n",
       "      <td>0.4</td>\n",
       "      <td>0.3333</td>\n",
       "      <td>0.3636</td>\n",
       "      <td>0.9932</td>\n",
       "    </tr>\n",
       "    <tr>\n",
       "      <th>1</th>\n",
       "      <td>LinearDiscriminantAnalysis()</td>\n",
       "      <td>0.9976</td>\n",
       "      <td>1.0</td>\n",
       "      <td>0.3333</td>\n",
       "      <td>0.5000</td>\n",
       "      <td>0.9776</td>\n",
       "    </tr>\n",
       "    <tr>\n",
       "      <th>2</th>\n",
       "      <td>GaussianNB()</td>\n",
       "      <td>0.9722</td>\n",
       "      <td>0.1</td>\n",
       "      <td>0.8333</td>\n",
       "      <td>0.1786</td>\n",
       "      <td>0.9803</td>\n",
       "    </tr>\n",
       "    <tr>\n",
       "      <th>3</th>\n",
       "      <td>(DecisionTreeClassifier(max_features='sqrt', r...</td>\n",
       "      <td>0.9976</td>\n",
       "      <td>1.0</td>\n",
       "      <td>0.3333</td>\n",
       "      <td>0.5000</td>\n",
       "      <td>0.9064</td>\n",
       "    </tr>\n",
       "    <tr>\n",
       "      <th>4</th>\n",
       "      <td>XGBClassifier(base_score=None, booster=None, c...</td>\n",
       "      <td>0.9964</td>\n",
       "      <td>0.5</td>\n",
       "      <td>0.3333</td>\n",
       "      <td>0.4000</td>\n",
       "      <td>0.9876</td>\n",
       "    </tr>\n",
       "  </tbody>\n",
       "</table>\n",
       "</div>"
      ],
      "text/plain": [
       "                                               model  accuracy  precision  \\\n",
       "0                               LogisticRegression()    0.9958        0.4   \n",
       "1                       LinearDiscriminantAnalysis()    0.9976        1.0   \n",
       "2                                       GaussianNB()    0.9722        0.1   \n",
       "3  (DecisionTreeClassifier(max_features='sqrt', r...    0.9976        1.0   \n",
       "4  XGBClassifier(base_score=None, booster=None, c...    0.9964        0.5   \n",
       "\n",
       "   recall  f1_score  auc_score  \n",
       "0  0.3333    0.3636     0.9932  \n",
       "1  0.3333    0.5000     0.9776  \n",
       "2  0.8333    0.1786     0.9803  \n",
       "3  0.3333    0.5000     0.9064  \n",
       "4  0.3333    0.4000     0.9876  "
      ]
     },
     "execution_count": 82,
     "metadata": {},
     "output_type": "execute_result"
    }
   ],
   "source": [
    "model_basic(x_train_2,y_train,x_test_2,y_test)"
   ]
  },
  {
   "attachments": {},
   "cell_type": "markdown",
   "metadata": {},
   "source": [
    "----\n",
    "# target3"
   ]
  },
  {
   "cell_type": "code",
   "execution_count": 83,
   "metadata": {},
   "outputs": [],
   "source": [
    "x_train = train[col_int]\n",
    "y_train = train[['target_3']]\n",
    "\n",
    "x_test = test[col_int]\n",
    "y_test = test[['target_3']]\n",
    "\n",
    "#  선정된 피쳐를 저장하기 위한 데이터프레임 생성 \n",
    "df_select_3 = pd.DataFrame()\n",
    "# 생성된 데이터프레임의 인덱스 지정\n",
    "df_select_3.index = x_train.columns"
   ]
  },
  {
   "cell_type": "code",
   "execution_count": 84,
   "metadata": {},
   "outputs": [],
   "source": [
    "#  lasso\n",
    "selector = SelectFromModel(estimator=LogisticRegression(penalty='l1',solver='liblinear',C=0.01)).fit(x_train, y_train)\n",
    "df_select_3[\"lasso_0.01\"] = selector.get_support()\n",
    "\n",
    "selector = SelectFromModel(estimator=LogisticRegression(penalty='l1',solver='liblinear',C=0.05)).fit(x_train, y_train)\n",
    "df_select_3[\"lasso_0.05\"] = selector.get_support()\n",
    "\n",
    "selector = SelectFromModel(estimator=LogisticRegression(penalty='l1',solver='liblinear',C=0.1)).fit(x_train, y_train)\n",
    "df_select_3[\"lasso_0.1\"] = selector.get_support()\n",
    "\n",
    "# logit foward\n",
    "estimator = LogisticRegression(penalty='l1',solver='liblinear',C=0.05)\n",
    "selector = SequentialFeatureSelector(estimator,direction='forward',cv=5,n_jobs=-1)\n",
    "selector.fit(x_train, y_train)\n",
    "df_select_3['logit_fwd'] = selector.get_support().tolist()\n",
    "# logit backward\n",
    "selector = SequentialFeatureSelector(estimator,direction='backward',cv=5,n_jobs=-1)\n",
    "selector.fit(x_train, y_train)\n",
    "df_select_3['logit_bwd'] = selector.get_support().tolist()\n",
    "\n",
    "\n",
    "# lda foward\n",
    "estimator = LinearDiscriminantAnalysis(solver='svd')\n",
    "selector = SequentialFeatureSelector(estimator,direction='forward',cv=5,n_jobs=-1)\n",
    "selector.fit(x_train, y_train)\n",
    "df_select_3['lda_fwd'] = selector.get_support().tolist()\n",
    "# lda backward\n",
    "selector = SequentialFeatureSelector(estimator,direction='backward',cv=5,n_jobs=-1,)\n",
    "selector.fit(x_train, y_train)\n",
    "df_select_3['lda_bwd'] = selector.get_support().tolist()\n",
    "\n",
    "# # RandomForest_foward\n",
    "# estimator = RandomForestClassifier()\n",
    "# selector = SequentialFeatureSelector(estimator,direction='forward',cv=2,n_jobs=-1)\n",
    "# selector.fit(x_train, y_train)\n",
    "# df_select_3['RFC_fwd'] = selector.get_support().tolist()\n",
    "# # RandomForest _ backward\n",
    "# selector = SequentialFeatureSelector(estimator,direction='backward',cv=2,n_jobs=-1)\n",
    "# selector.fit(x_train, y_train)\n",
    "# df_select_3['RFC_bwd'] = selector.get_support().tolist()"
   ]
  },
  {
   "cell_type": "code",
   "execution_count": 85,
   "metadata": {},
   "outputs": [
    {
     "data": {
      "text/plain": [
       "Index(['EBITDA마진율', '누적수익성비율', 'TMD', '자기자본순이익률', '금융비용부담률', '정상영업이익증가율'], dtype='object')"
      ]
     },
     "execution_count": 85,
     "metadata": {},
     "output_type": "execute_result"
    }
   ],
   "source": [
    "for col in df_select_3.columns.to_list():\n",
    "    df_select_3[col] = df_select_3[col].apply(lambda x : 1 if x==True else 0)\n",
    "df_select_3['total'] = df_select_3.sum(axis=1)\n",
    "df_select_3[df_select_3['total']>=4].index"
   ]
  },
  {
   "cell_type": "code",
   "execution_count": 86,
   "metadata": {},
   "outputs": [
    {
     "data": {
      "text/html": [
       "<div>\n",
       "<style scoped>\n",
       "    .dataframe tbody tr th:only-of-type {\n",
       "        vertical-align: middle;\n",
       "    }\n",
       "\n",
       "    .dataframe tbody tr th {\n",
       "        vertical-align: top;\n",
       "    }\n",
       "\n",
       "    .dataframe thead th {\n",
       "        text-align: right;\n",
       "    }\n",
       "</style>\n",
       "<table border=\"1\" class=\"dataframe\">\n",
       "  <thead>\n",
       "    <tr style=\"text-align: right;\">\n",
       "      <th></th>\n",
       "      <th>lasso_0.01</th>\n",
       "      <th>lasso_0.05</th>\n",
       "      <th>lasso_0.1</th>\n",
       "      <th>logit_fwd</th>\n",
       "      <th>logit_bwd</th>\n",
       "      <th>lda_fwd</th>\n",
       "      <th>lda_bwd</th>\n",
       "      <th>total</th>\n",
       "    </tr>\n",
       "  </thead>\n",
       "  <tbody>\n",
       "    <tr>\n",
       "      <th>EBITDA마진율</th>\n",
       "      <td>1</td>\n",
       "      <td>1</td>\n",
       "      <td>1</td>\n",
       "      <td>0</td>\n",
       "      <td>0</td>\n",
       "      <td>1</td>\n",
       "      <td>0</td>\n",
       "      <td>4</td>\n",
       "    </tr>\n",
       "    <tr>\n",
       "      <th>누적수익성비율</th>\n",
       "      <td>1</td>\n",
       "      <td>1</td>\n",
       "      <td>1</td>\n",
       "      <td>1</td>\n",
       "      <td>1</td>\n",
       "      <td>0</td>\n",
       "      <td>1</td>\n",
       "      <td>6</td>\n",
       "    </tr>\n",
       "    <tr>\n",
       "      <th>TMD</th>\n",
       "      <td>1</td>\n",
       "      <td>1</td>\n",
       "      <td>1</td>\n",
       "      <td>1</td>\n",
       "      <td>1</td>\n",
       "      <td>0</td>\n",
       "      <td>1</td>\n",
       "      <td>6</td>\n",
       "    </tr>\n",
       "    <tr>\n",
       "      <th>자기자본순이익률</th>\n",
       "      <td>1</td>\n",
       "      <td>1</td>\n",
       "      <td>1</td>\n",
       "      <td>1</td>\n",
       "      <td>0</td>\n",
       "      <td>1</td>\n",
       "      <td>1</td>\n",
       "      <td>6</td>\n",
       "    </tr>\n",
       "    <tr>\n",
       "      <th>금융비용부담률</th>\n",
       "      <td>1</td>\n",
       "      <td>1</td>\n",
       "      <td>1</td>\n",
       "      <td>1</td>\n",
       "      <td>1</td>\n",
       "      <td>1</td>\n",
       "      <td>1</td>\n",
       "      <td>7</td>\n",
       "    </tr>\n",
       "    <tr>\n",
       "      <th>정상영업이익증가율</th>\n",
       "      <td>0</td>\n",
       "      <td>1</td>\n",
       "      <td>1</td>\n",
       "      <td>0</td>\n",
       "      <td>1</td>\n",
       "      <td>0</td>\n",
       "      <td>1</td>\n",
       "      <td>4</td>\n",
       "    </tr>\n",
       "  </tbody>\n",
       "</table>\n",
       "</div>"
      ],
      "text/plain": [
       "           lasso_0.01  lasso_0.05  lasso_0.1  logit_fwd  logit_bwd  lda_fwd  \\\n",
       "EBITDA마진율           1           1          1          0          0        1   \n",
       "누적수익성비율             1           1          1          1          1        0   \n",
       "TMD                 1           1          1          1          1        0   \n",
       "자기자본순이익률            1           1          1          1          0        1   \n",
       "금융비용부담률             1           1          1          1          1        1   \n",
       "정상영업이익증가율           0           1          1          0          1        0   \n",
       "\n",
       "           lda_bwd  total  \n",
       "EBITDA마진율        0      4  \n",
       "누적수익성비율          1      6  \n",
       "TMD              1      6  \n",
       "자기자본순이익률         1      6  \n",
       "금융비용부담률          1      7  \n",
       "정상영업이익증가율        1      4  "
      ]
     },
     "execution_count": 86,
     "metadata": {},
     "output_type": "execute_result"
    }
   ],
   "source": [
    "df_select_3[df_select_3['total']>=4]"
   ]
  },
  {
   "cell_type": "code",
   "execution_count": 87,
   "metadata": {},
   "outputs": [],
   "source": [
    "최종_col =df_select_3[df_select_3['total']>=4].index.to_list()\n",
    "\n",
    "x_train_3 = x_train[최종_col]\n",
    "x_test_3 = x_test[최종_col]"
   ]
  },
  {
   "cell_type": "code",
   "execution_count": 88,
   "metadata": {},
   "outputs": [
    {
     "data": {
      "text/plain": [
       "<AxesSubplot:title={'center':'Correlation of Features'}>"
      ]
     },
     "execution_count": 88,
     "metadata": {},
     "output_type": "execute_result"
    },
    {
     "data": {
      "image/png": "[encoded data removed]",
      "text/plain": [
       "<Figure size 2000x2000 with 2 Axes>"
      ]
     },
     "metadata": {},
     "output_type": "display_data"
    }
   ],
   "source": [
    "colormap = plt.cm.hot\n",
    "\n",
    "corr = x_train_3.corr()\n",
    "mask = np.triu(np.ones_like(corr, dtype=np.bool))\n",
    "plt.figure(figsize=(20, 20))\n",
    "plt.rcParams['axes.unicode_minus'] = False\n",
    "plt.rc('font', family=\"Malgun Gothic\")\n",
    "plt.title(\"Correlation of Features\", y=1.05, size=15)\n",
    "sns.heatmap(corr,  linewidths=0.1, vmax=1.0, vmin=-1.0, square=True,mask=mask,\n",
    "            cmap='RdYlBu_r', linecolor=\"white\", annot=True, annot_kws={'size': 10})"
   ]
  },
  {
   "cell_type": "code",
   "execution_count": 89,
   "metadata": {},
   "outputs": [
    {
     "name": "stdout",
     "output_type": "stream",
     "text": [
      "[[3425    3]\n",
      " [  11   29]]\n",
      "[[3426    2]\n",
      " [  12   28]]\n",
      "[[3333   95]\n",
      " [   6   34]]\n",
      "[[3428    0]\n",
      " [   0   40]]\n",
      "[[3428    0]\n",
      " [   0   40]]\n"
     ]
    },
    {
     "data": {
      "text/html": [
       "<div>\n",
       "<style scoped>\n",
       "    .dataframe tbody tr th:only-of-type {\n",
       "        vertical-align: middle;\n",
       "    }\n",
       "\n",
       "    .dataframe tbody tr th {\n",
       "        vertical-align: top;\n",
       "    }\n",
       "\n",
       "    .dataframe thead th {\n",
       "        text-align: right;\n",
       "    }\n",
       "</style>\n",
       "<table border=\"1\" class=\"dataframe\">\n",
       "  <thead>\n",
       "    <tr style=\"text-align: right;\">\n",
       "      <th></th>\n",
       "      <th>model</th>\n",
       "      <th>accuracy</th>\n",
       "      <th>precision</th>\n",
       "      <th>recall</th>\n",
       "      <th>f1_score</th>\n",
       "      <th>auc_score</th>\n",
       "    </tr>\n",
       "  </thead>\n",
       "  <tbody>\n",
       "    <tr>\n",
       "      <th>0</th>\n",
       "      <td>LogisticRegression()</td>\n",
       "      <td>0.9960</td>\n",
       "      <td>0.9062</td>\n",
       "      <td>0.725</td>\n",
       "      <td>0.8056</td>\n",
       "      <td>0.9918</td>\n",
       "    </tr>\n",
       "    <tr>\n",
       "      <th>1</th>\n",
       "      <td>LinearDiscriminantAnalysis()</td>\n",
       "      <td>0.9960</td>\n",
       "      <td>0.9333</td>\n",
       "      <td>0.700</td>\n",
       "      <td>0.8000</td>\n",
       "      <td>0.9841</td>\n",
       "    </tr>\n",
       "    <tr>\n",
       "      <th>2</th>\n",
       "      <td>GaussianNB()</td>\n",
       "      <td>0.9709</td>\n",
       "      <td>0.2636</td>\n",
       "      <td>0.850</td>\n",
       "      <td>0.4024</td>\n",
       "      <td>0.9855</td>\n",
       "    </tr>\n",
       "    <tr>\n",
       "      <th>3</th>\n",
       "      <td>(DecisionTreeClassifier(max_features='sqrt', r...</td>\n",
       "      <td>1.0000</td>\n",
       "      <td>1.0000</td>\n",
       "      <td>1.000</td>\n",
       "      <td>1.0000</td>\n",
       "      <td>1.0000</td>\n",
       "    </tr>\n",
       "    <tr>\n",
       "      <th>4</th>\n",
       "      <td>XGBClassifier(base_score=None, booster=None, c...</td>\n",
       "      <td>1.0000</td>\n",
       "      <td>1.0000</td>\n",
       "      <td>1.000</td>\n",
       "      <td>1.0000</td>\n",
       "      <td>1.0000</td>\n",
       "    </tr>\n",
       "  </tbody>\n",
       "</table>\n",
       "</div>"
      ],
      "text/plain": [
       "                                               model  accuracy  precision  \\\n",
       "0                               LogisticRegression()    0.9960     0.9062   \n",
       "1                       LinearDiscriminantAnalysis()    0.9960     0.9333   \n",
       "2                                       GaussianNB()    0.9709     0.2636   \n",
       "3  (DecisionTreeClassifier(max_features='sqrt', r...    1.0000     1.0000   \n",
       "4  XGBClassifier(base_score=None, booster=None, c...    1.0000     1.0000   \n",
       "\n",
       "   recall  f1_score  auc_score  \n",
       "0   0.725    0.8056     0.9918  \n",
       "1   0.700    0.8000     0.9841  \n",
       "2   0.850    0.4024     0.9855  \n",
       "3   1.000    1.0000     1.0000  \n",
       "4   1.000    1.0000     1.0000  "
      ]
     },
     "execution_count": 89,
     "metadata": {},
     "output_type": "execute_result"
    }
   ],
   "source": [
    "model_basic(x_train_3,y_train,x_train_3,y_train)"
   ]
  },
  {
   "cell_type": "code",
   "execution_count": 90,
   "metadata": {},
   "outputs": [
    {
     "name": "stdout",
     "output_type": "stream",
     "text": [
      "[[1645    3]\n",
      " [   4    2]]\n",
      "[[1648    0]\n",
      " [   4    2]]\n",
      "[[1603   45]\n",
      " [   1    5]]\n",
      "[[1648    0]\n",
      " [   4    2]]\n",
      "[[1646    2]\n",
      " [   4    2]]\n"
     ]
    },
    {
     "data": {
      "text/html": [
       "<div>\n",
       "<style scoped>\n",
       "    .dataframe tbody tr th:only-of-type {\n",
       "        vertical-align: middle;\n",
       "    }\n",
       "\n",
       "    .dataframe tbody tr th {\n",
       "        vertical-align: top;\n",
       "    }\n",
       "\n",
       "    .dataframe thead th {\n",
       "        text-align: right;\n",
       "    }\n",
       "</style>\n",
       "<table border=\"1\" class=\"dataframe\">\n",
       "  <thead>\n",
       "    <tr style=\"text-align: right;\">\n",
       "      <th></th>\n",
       "      <th>model</th>\n",
       "      <th>accuracy</th>\n",
       "      <th>precision</th>\n",
       "      <th>recall</th>\n",
       "      <th>f1_score</th>\n",
       "      <th>auc_score</th>\n",
       "    </tr>\n",
       "  </thead>\n",
       "  <tbody>\n",
       "    <tr>\n",
       "      <th>0</th>\n",
       "      <td>LogisticRegression()</td>\n",
       "      <td>0.9958</td>\n",
       "      <td>0.4</td>\n",
       "      <td>0.3333</td>\n",
       "      <td>0.3636</td>\n",
       "      <td>0.9932</td>\n",
       "    </tr>\n",
       "    <tr>\n",
       "      <th>1</th>\n",
       "      <td>LinearDiscriminantAnalysis()</td>\n",
       "      <td>0.9976</td>\n",
       "      <td>1.0</td>\n",
       "      <td>0.3333</td>\n",
       "      <td>0.5000</td>\n",
       "      <td>0.9776</td>\n",
       "    </tr>\n",
       "    <tr>\n",
       "      <th>2</th>\n",
       "      <td>GaussianNB()</td>\n",
       "      <td>0.9722</td>\n",
       "      <td>0.1</td>\n",
       "      <td>0.8333</td>\n",
       "      <td>0.1786</td>\n",
       "      <td>0.9803</td>\n",
       "    </tr>\n",
       "    <tr>\n",
       "      <th>3</th>\n",
       "      <td>(DecisionTreeClassifier(max_features='sqrt', r...</td>\n",
       "      <td>0.9976</td>\n",
       "      <td>1.0</td>\n",
       "      <td>0.3333</td>\n",
       "      <td>0.5000</td>\n",
       "      <td>0.9055</td>\n",
       "    </tr>\n",
       "    <tr>\n",
       "      <th>4</th>\n",
       "      <td>XGBClassifier(base_score=None, booster=None, c...</td>\n",
       "      <td>0.9964</td>\n",
       "      <td>0.5</td>\n",
       "      <td>0.3333</td>\n",
       "      <td>0.4000</td>\n",
       "      <td>0.9876</td>\n",
       "    </tr>\n",
       "  </tbody>\n",
       "</table>\n",
       "</div>"
      ],
      "text/plain": [
       "                                               model  accuracy  precision  \\\n",
       "0                               LogisticRegression()    0.9958        0.4   \n",
       "1                       LinearDiscriminantAnalysis()    0.9976        1.0   \n",
       "2                                       GaussianNB()    0.9722        0.1   \n",
       "3  (DecisionTreeClassifier(max_features='sqrt', r...    0.9976        1.0   \n",
       "4  XGBClassifier(base_score=None, booster=None, c...    0.9964        0.5   \n",
       "\n",
       "   recall  f1_score  auc_score  \n",
       "0  0.3333    0.3636     0.9932  \n",
       "1  0.3333    0.5000     0.9776  \n",
       "2  0.8333    0.1786     0.9803  \n",
       "3  0.3333    0.5000     0.9055  \n",
       "4  0.3333    0.4000     0.9876  "
      ]
     },
     "execution_count": 90,
     "metadata": {},
     "output_type": "execute_result"
    }
   ],
   "source": [
    "model_basic(x_train_3,y_train,x_test_3,y_test)"
   ]
  },
  {
   "cell_type": "code",
   "execution_count": null,
   "metadata": {},
   "outputs": [],
   "source": []
  }
 ],
 "metadata": {
  "kernelspec": {
   "display_name": "base",
   "language": "python",
   "name": "python3"
  },
  "language_info": {
   "codemirror_mode": {
    "name": "ipython",
    "version": 3
   },
   "file_extension": ".py",
   "mimetype": "text/x-python",
   "name": "python",
   "nbconvert_exporter": "python",
   "pygments_lexer": "ipython3",
   "version": "3.9.13"
  },
  "orig_nbformat": 4
 },
 "nbformat": 4,
 "nbformat_minor": 2
}
