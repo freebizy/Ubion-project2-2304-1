{
 "cells": [
  {
   "cell_type": "code",
   "execution_count": 1,
   "metadata": {},
   "outputs": [],
   "source": [
    "import pandas as pd\n",
    "import numpy as np\n",
    "import matplotlib.pyplot as plt\n",
    "import seaborn as sns\n",
    "\n",
    "plt.rc('font', family='Malgun Gothic') \n",
    "import matplotlib as mpl\n",
    "mpl.rcParams['axes.unicode_minus'] = False\n",
    "%matplotlib inline\n",
    "\n",
    "\n",
    "import warnings \n",
    "warnings.simplefilter(\"ignore\")"
   ]
  },
  {
   "attachments": {},
   "cell_type": "markdown",
   "metadata": {},
   "source": [
    "---\n",
    "## 결측치 채우기"
   ]
  },
  {
   "cell_type": "code",
   "execution_count": 2,
   "metadata": {},
   "outputs": [
    {
     "data": {
      "text/plain": [
       "회사명                                          0\n",
       "거래소코드                                        0\n",
       "회계년도                                         0\n",
       "자산(*)(요약)(IFRS)(백만원)                         4\n",
       "이익잉여금(결손금)(요약)(IFRS)(백만원)                    4\n",
       "자산(*)(요약)(IFRS연결)(백만원)                     305\n",
       "이익잉여금(결손금)(요약)(IFRS연결)(백만원)                305\n",
       "순운전자본비율(IFRS)                                9\n",
       "순운전자본비율(IFRS연결)                            307\n",
       "부채(*)(요약)(IFRS)(백만원)                         4\n",
       "부채(*)(요약)(IFRS연결)(백만원)                     305\n",
       "금융비용부담률(IFRS)                                9\n",
       "금융비용부담률(IFRS연결)                            307\n",
       "영업활동으로 인한 현금흐름(간접법)(*)(요약)(IFRS)(백만원)        4\n",
       "당기순이익(손실)(요약)(IFRS)(백만원)                     4\n",
       "매출액(수익)(요약)(IFRS)(백만원)                       4\n",
       "영업활동으로 인한 현금흐름(간접법)(*)(요약)(IFRS연결)(백만원)    305\n",
       "당기순이익(손실)(요약)(IFRS연결)(백만원)                 305\n",
       "매출액(수익)(요약)(IFRS연결)(백만원)                   305\n",
       "dtype: int64"
      ]
     },
     "execution_count": 2,
     "metadata": {},
     "output_type": "execute_result"
    }
   ],
   "source": [
    "df = pd.read_csv(\"./datasets/2022년데이터/코스닥_22년재무.csv\", encoding=\"cp949\")\n",
    "df_ww = pd.read_csv(\"./datasets/2022년데이터/2022WW지수.csv\", index_col=0) \n",
    "df_ww = df_ww[[\"회사명\", \"거래소코드\", \"회계년도\", \"WW지수\"]]\n",
    "df.isna().sum()"
   ]
  },
  {
   "cell_type": "code",
   "execution_count": 3,
   "metadata": {},
   "outputs": [],
   "source": [
    "df_1 = df.copy()\n",
    "df_2 = df.copy()"
   ]
  },
  {
   "cell_type": "code",
   "execution_count": 4,
   "metadata": {},
   "outputs": [],
   "source": [
    "# #  연결 재무제표를 개별제무제표로 대체\n",
    "\n",
    "\n",
    "connected_cols = [col for col in df.columns if \"연결\" in col]\n",
    "\n",
    "for connected_col in connected_cols:\n",
    "    original_col = connected_col.replace(\"연결\", \"\")\n",
    "    if original_col in df.columns:\n",
    "        df.loc[df[connected_col].isnull(), connected_col] = df[original_col]"
   ]
  },
  {
   "cell_type": "code",
   "execution_count": 5,
   "metadata": {},
   "outputs": [
    {
     "data": {
      "text/plain": [
       "회사명                                        0\n",
       "거래소코드                                      0\n",
       "회계년도                                       0\n",
       "자산(*)(요약)(IFRS)(백만원)                       4\n",
       "이익잉여금(결손금)(요약)(IFRS)(백만원)                  4\n",
       "자산(*)(요약)(IFRS연결)(백만원)                     0\n",
       "이익잉여금(결손금)(요약)(IFRS연결)(백만원)                0\n",
       "순운전자본비율(IFRS)                              9\n",
       "순운전자본비율(IFRS연결)                            5\n",
       "부채(*)(요약)(IFRS)(백만원)                       4\n",
       "부채(*)(요약)(IFRS연결)(백만원)                     0\n",
       "금융비용부담률(IFRS)                              9\n",
       "금융비용부담률(IFRS연결)                            5\n",
       "영업활동으로 인한 현금흐름(간접법)(*)(요약)(IFRS)(백만원)      4\n",
       "당기순이익(손실)(요약)(IFRS)(백만원)                   4\n",
       "매출액(수익)(요약)(IFRS)(백만원)                     4\n",
       "영업활동으로 인한 현금흐름(간접법)(*)(요약)(IFRS연결)(백만원)    0\n",
       "당기순이익(손실)(요약)(IFRS연결)(백만원)                 0\n",
       "매출액(수익)(요약)(IFRS연결)(백만원)                   0\n",
       "dtype: int64"
      ]
     },
     "execution_count": 5,
     "metadata": {},
     "output_type": "execute_result"
    }
   ],
   "source": [
    "df.isna().sum()"
   ]
  },
  {
   "cell_type": "code",
   "execution_count": 6,
   "metadata": {},
   "outputs": [
    {
     "data": {
      "text/plain": [
       "자산(*)(요약)(IFRS연결)(백만원)    0\n",
       "자산(*)(요약)(IFRS)(백만원)      4\n",
       "dtype: int64"
      ]
     },
     "execution_count": 6,
     "metadata": {},
     "output_type": "execute_result"
    }
   ],
   "source": [
    "for i in range(df_1.shape[0]):\n",
    "    if pd.isnull(df_1.loc[i,'자산(*)(요약)(IFRS연결)(백만원)']):\n",
    "       df_1.loc[i,'자산(*)(요약)(IFRS연결)(백만원)'] = df_1.loc[i,'자산(*)(요약)(IFRS)(백만원)']\n",
    "\n",
    "df_1[[\"자산(*)(요약)(IFRS연결)(백만원)\",\"자산(*)(요약)(IFRS)(백만원)\"]].isna().sum()"
   ]
  },
  {
   "cell_type": "code",
   "execution_count": 7,
   "metadata": {},
   "outputs": [
    {
     "data": {
      "text/plain": [
       "자산(*)(요약)(IFRS연결)(백만원)    0\n",
       "자산(*)(요약)(IFRS)(백만원)      4\n",
       "dtype: int64"
      ]
     },
     "execution_count": 7,
     "metadata": {},
     "output_type": "execute_result"
    }
   ],
   "source": [
    "df_2[\"자산(*)(요약)(IFRS연결)(백만원)\"].fillna(df_2[\"자산(*)(요약)(IFRS)(백만원)\"],inplace=True)\n",
    "\n",
    "df_2[[\"자산(*)(요약)(IFRS연결)(백만원)\",\"자산(*)(요약)(IFRS)(백만원)\"]].isna().sum()\n"
   ]
  },
  {
   "attachments": {},
   "cell_type": "markdown",
   "metadata": {},
   "source": [
    "---\n",
    "## 데이터 전처리"
   ]
  },
  {
   "cell_type": "code",
   "execution_count": 8,
   "metadata": {},
   "outputs": [
    {
     "data": {
      "text/plain": [
       "(1503, 19)"
      ]
     },
     "execution_count": 8,
     "metadata": {},
     "output_type": "execute_result"
    }
   ],
   "source": [
    "df.shape"
   ]
  },
  {
   "cell_type": "code",
   "execution_count": 9,
   "metadata": {},
   "outputs": [],
   "source": [
    "## 거래소코드 패딩\n",
    "def padding(x):\n",
    "    x = str(x)\n",
    "    return x.rjust(6, \"0\")\n",
    "## 외국계기업 제거\n",
    "def func_isnt_fcompany(x):\n",
    "    if x[:1] == '9':\n",
    "        return False\n",
    "    else:\n",
    "        return True\n",
    "\n",
    "# 회계년도컬럼, 년도만 뽑아서 int화\n",
    "def change_year(x):\n",
    "    return int(x[:4])\n",
    "\n",
    "def func_not(x):\n",
    "    return not x\n",
    "\n",
    "def change_year_2(x):\n",
    "    return (x[:4])\n",
    "\n",
    "\n",
    "## 거래소 코드 패딩\n",
    "df['거래소코드'] = df['거래소코드'].map(padding)\n",
    "# 회계년도 제거\n",
    "df['회계년도'] = df['회계년도'].map(change_year)\n",
    "\n"
   ]
  },
  {
   "cell_type": "code",
   "execution_count": 10,
   "metadata": {},
   "outputs": [
    {
     "name": "stdout",
     "output_type": "stream",
     "text": [
      "(1503, 19)\n"
     ]
    }
   ],
   "source": [
    "## 중복되는 데이터 제거\n",
    "df.drop_duplicates(['거래소코드',\"회계년도\"], keep='last', inplace=True)\n",
    "df.reset_index(drop=True, inplace=True)\n",
    "\n",
    "print(df.shape)\n",
    "## 없음\n"
   ]
  },
  {
   "cell_type": "code",
   "execution_count": 11,
   "metadata": {},
   "outputs": [
    {
     "name": "stdout",
     "output_type": "stream",
     "text": [
      "제거할 데이터 수 :  11\n",
      "제거할 외국계 기업 수 11\n",
      "남은 데이터 수 1492\n",
      "남은 기업 수 1491\n",
      "(1492, 19)\n"
     ]
    }
   ],
   "source": [
    "## 외국계 기업 제거\n",
    "print(\"제거할 데이터 수 : \", len(df[df[\"거래소코드\"].map(func_isnt_fcompany).map(func_not)]))\n",
    "print('제거할 외국계 기업 수',len(df[~df[\"거래소코드\"].map(func_isnt_fcompany)].회사명.unique()))\n",
    "\n",
    "df = df[df[\"거래소코드\"].map(func_isnt_fcompany)]\n",
    "print('남은 데이터 수',df.shape[0]) # 외국계기업 데이터 24개 제거\n",
    "print('남은 기업 수',len(df['회사명'].unique()))\n",
    "print(df.shape)"
   ]
  },
  {
   "cell_type": "code",
   "execution_count": 12,
   "metadata": {},
   "outputs": [
    {
     "name": "stdout",
     "output_type": "stream",
     "text": [
      "회사수 :  1491\n",
      "거래소코드수 :  1492\n"
     ]
    }
   ],
   "source": [
    "## 회사수와 거래소코드수 차이가나는것 확인\n",
    "print(\"회사수 : \", len(df[\"회사명\"].unique()))\n",
    "print(\"거래소코드수 : \", len(df[\"거래소코드\"].unique()))"
   ]
  },
  {
   "cell_type": "code",
   "execution_count": 13,
   "metadata": {},
   "outputs": [
    {
     "name": "stdout",
     "output_type": "stream",
     "text": [
      "거래소코드가 2개인 기업 수 1 개\n"
     ]
    }
   ],
   "source": [
    "## 거래소 코드 중복기업 전처리\n",
    "list_overlap_code = list()\n",
    "for i in list(df[\"회사명\"].unique()):\n",
    "    if len(df[df[\"회사명\"]==i][\"거래소코드\"].unique()) > 1:\n",
    "        list_overlap_code.append(i)\n",
    "print(\"거래소코드가 2개인 기업 수\", len(list_overlap_code), \"개\")"
   ]
  },
  {
   "cell_type": "code",
   "execution_count": 14,
   "metadata": {},
   "outputs": [
    {
     "data": {
      "text/plain": [
       "['에스케이오션플랜트(주)']"
      ]
     },
     "execution_count": 14,
     "metadata": {},
     "output_type": "execute_result"
    }
   ],
   "source": [
    "list_overlap_code"
   ]
  },
  {
   "cell_type": "code",
   "execution_count": 15,
   "metadata": {},
   "outputs": [],
   "source": [
    "# 중복 거래소코드 제거\n",
    "def func_overlap_code(x):\n",
    "    if x == (df[df[\"회사명\"]==company_name][\"거래소코드\"].iloc[-1]) :\n",
    "        return True\n",
    "    else:\n",
    "        return False\n",
    "\n",
    "list_companyname = list(df[\"회사명\"].unique())\n",
    "\n",
    "\n",
    "dfs = list()\n",
    "\n",
    "\n",
    "for i in list_companyname:\n",
    "    company_name = i\n",
    "    #각 기업별로 데이터프레임 생성\n",
    "    df_concat = df[df[\"회사명\"]==i]\n",
    "    df_concat = df_concat[df_concat[\"거래소코드\"].map(func_overlap_code)] # 거래소코드 바뀌기 전의 거래소코드의 데이터는 삭제\n",
    "    dfs.append(df_concat)\n",
    "df = pd.concat(dfs)\n",
    "df.reset_index(drop=True, inplace=True)"
   ]
  },
  {
   "cell_type": "code",
   "execution_count": 16,
   "metadata": {},
   "outputs": [
    {
     "data": {
      "text/plain": [
       "[]"
      ]
     },
     "execution_count": 16,
     "metadata": {},
     "output_type": "execute_result"
    }
   ],
   "source": [
    "# 회사명이 2개인 거래소코드 존재 확인 \n",
    "list_overlap_code = list()\n",
    "for i in list(df[\"거래소코드\"].unique()):\n",
    "    if len(df[df[\"거래소코드\"]==i][\"회사명\"].unique()) > 1:\n",
    "        list_overlap_code.append(i)\n",
    "list_overlap_code"
   ]
  },
  {
   "cell_type": "code",
   "execution_count": 17,
   "metadata": {},
   "outputs": [
    {
     "data": {
      "text/plain": [
       "Index(['회사명', '거래소코드', '회계년도', '자산(*)(요약)(IFRS)(백만원)',\n",
       "       '이익잉여금(결손금)(요약)(IFRS)(백만원)', '자산(*)(요약)(IFRS연결)(백만원)',\n",
       "       '이익잉여금(결손금)(요약)(IFRS연결)(백만원)', '순운전자본비율(IFRS)', '순운전자본비율(IFRS연결)',\n",
       "       '부채(*)(요약)(IFRS)(백만원)', '부채(*)(요약)(IFRS연결)(백만원)', '금융비용부담률(IFRS)',\n",
       "       '금융비용부담률(IFRS연결)', '영업활동으로 인한 현금흐름(간접법)(*)(요약)(IFRS)(백만원)',\n",
       "       '당기순이익(손실)(요약)(IFRS)(백만원)', '매출액(수익)(요약)(IFRS)(백만원)',\n",
       "       '영업활동으로 인한 현금흐름(간접법)(*)(요약)(IFRS연결)(백만원)', '당기순이익(손실)(요약)(IFRS연결)(백만원)',\n",
       "       '매출액(수익)(요약)(IFRS연결)(백만원)'],\n",
       "      dtype='object')"
      ]
     },
     "execution_count": 17,
     "metadata": {},
     "output_type": "execute_result"
    }
   ],
   "source": [
    "df.columns"
   ]
  },
  {
   "cell_type": "code",
   "execution_count": 18,
   "metadata": {},
   "outputs": [],
   "source": [
    "df = df[['회사명', '거래소코드', '회계년도','자산(*)(요약)(IFRS연결)(백만원)', '이익잉여금(결손금)(요약)(IFRS연결)(백만원)','순운전자본비율(IFRS연결)','부채(*)(요약)(IFRS연결)(백만원)','금융비용부담률(IFRS연결)',\n",
    "    '영업활동으로 인한 현금흐름(간접법)(*)(요약)(IFRS연결)(백만원)', '당기순이익(손실)(요약)(IFRS연결)(백만원)', '매출액(수익)(요약)(IFRS연결)(백만원)']]"
   ]
  },
  {
   "attachments": {},
   "cell_type": "markdown",
   "metadata": {},
   "source": [
    "---\n",
    "## 데이터 합치기"
   ]
  },
  {
   "cell_type": "code",
   "execution_count": 19,
   "metadata": {},
   "outputs": [],
   "source": [
    "# # 거래소 코드 패딩\n",
    "df_ww['거래소코드'] = df_ww['거래소코드'].map(padding)"
   ]
  },
  {
   "cell_type": "code",
   "execution_count": 20,
   "metadata": {},
   "outputs": [
    {
     "data": {
      "text/plain": [
       "(1491, 12)"
      ]
     },
     "execution_count": 20,
     "metadata": {},
     "output_type": "execute_result"
    }
   ],
   "source": [
    "df = df.merge(df_ww, on=[\"회사명\", \"거래소코드\",\"회계년도\"], how=\"left\")\n",
    "df.shape"
   ]
  },
  {
   "cell_type": "code",
   "execution_count": 21,
   "metadata": {},
   "outputs": [
    {
     "name": "stdout",
     "output_type": "stream",
     "text": [
      "<class 'pandas.core.frame.DataFrame'>\n",
      "Index: 1615 entries, 0 to 1614\n",
      "Data columns (total 2 columns):\n",
      " #   Column  Non-Null Count  Dtype  \n",
      "---  ------  --------------  -----  \n",
      " 0   거래소코드   1615 non-null   object \n",
      " 1   시가총액    1615 non-null   float64\n",
      "dtypes: float64(1), object(1)\n",
      "memory usage: 37.9+ KB\n"
     ]
    }
   ],
   "source": [
    "시총_df = pd.read_csv(\"./datasets/2022년데이터/2022시총.csv\", index_col=0)\n",
    "시총_df['거래소코드'] = 시총_df['거래소코드'].map(padding)\n",
    "시총_df.info()"
   ]
  },
  {
   "cell_type": "code",
   "execution_count": 22,
   "metadata": {},
   "outputs": [
    {
     "data": {
      "text/plain": [
       "(1491, 13)"
      ]
     },
     "execution_count": 22,
     "metadata": {},
     "output_type": "execute_result"
    }
   ],
   "source": [
    "df = df.merge(시총_df, on=[\"거래소코드\"], how=\"left\")\n",
    "df.shape"
   ]
  },
  {
   "cell_type": "code",
   "execution_count": 23,
   "metadata": {},
   "outputs": [],
   "source": [
    "df.dropna(axis=0, inplace=True)"
   ]
  },
  {
   "attachments": {},
   "cell_type": "markdown",
   "metadata": {},
   "source": [
    "---\n",
    "## 컬럼 만들기"
   ]
  },
  {
   "cell_type": "code",
   "execution_count": 24,
   "metadata": {},
   "outputs": [],
   "source": [
    "## 누적수익성비율  - 자산0이면 inf - 공시안함 \n",
    "df['누적수익성비율'] = df['이익잉여금(결손금)(요약)(IFRS연결)(백만원)']/df['자산(*)(요약)(IFRS연결)(백만원)']\n",
    "\n",
    "## TMD\n",
    "df['TMD'] = df['부채(*)(요약)(IFRS연결)(백만원)'] / df['시가총액']\n",
    "\n",
    "# abs(영업현금흐름-당기순이익)/매출액\n",
    "df[\"abs(영업현금흐름-당기순이익)/매출액\"] = np.abs((df[\"영업활동으로 인한 현금흐름(간접법)(*)(요약)(IFRS연결)(백만원)\"] - df[\"당기순이익(손실)(요약)(IFRS연결)(백만원)\"])) / df[\"매출액(수익)(요약)(IFRS연결)(백만원)\"]"
   ]
  },
  {
   "cell_type": "code",
   "execution_count": 25,
   "metadata": {},
   "outputs": [],
   "source": [
    "df = df[[\"회사명\", \"거래소코드\", \"회계년도\", \"누적수익성비율\", \"TMD\", \"abs(영업현금흐름-당기순이익)/매출액\", \"순운전자본비율(IFRS연결)\", \"금융비용부담률(IFRS연결)\",'WW지수']]"
   ]
  },
  {
   "attachments": {},
   "cell_type": "markdown",
   "metadata": {},
   "source": [
    "---\n",
    "## 22년 예측하기"
   ]
  },
  {
   "cell_type": "code",
   "execution_count": 26,
   "metadata": {},
   "outputs": [],
   "source": [
    "rename_list = {'순운전자본비율(IFRS연결)': '순운전자본비율', '금융비용부담률(IFRS연결)': '금융비용부담률'}\n",
    "df.rename(columns=rename_list,inplace=True)"
   ]
  },
  {
   "cell_type": "code",
   "execution_count": 27,
   "metadata": {},
   "outputs": [],
   "source": [
    "과거_df = pd.read_csv(\"./datasets/전처리준비/코스닥결측치처리완료_000.csv\", index_col=0)\n",
    "과거_df = 과거_df[[\"회사명\", \"거래소코드\", \"회계년도\", \"누적수익성비율\", \"TMD\", \"abs(영업현금흐름-당기순이익)/매출액\", \"순운전자본비율\", \"금융비용부담률\",'WW지수', \"target_3\"]]\n",
    "df = pd.concat([과거_df, df], axis=0)\n",
    "df.fillna(0,inplace=True)"
   ]
  },
  {
   "cell_type": "code",
   "execution_count": 28,
   "metadata": {},
   "outputs": [],
   "source": [
    "y = pd.read_csv(\"./datasets/y/y값최종내용_1.csv\", index_col=0)\n",
    "y['거래소코드'] = y['거래소코드'].map(padding)"
   ]
  },
  {
   "cell_type": "code",
   "execution_count": 29,
   "metadata": {},
   "outputs": [],
   "source": [
    "\n",
    "df['거래소코드'] = df['거래소코드'].map(padding)"
   ]
  },
  {
   "cell_type": "code",
   "execution_count": 30,
   "metadata": {},
   "outputs": [
    {
     "data": {
      "text/plain": [
       "회사명                      0\n",
       "거래소코드                    0\n",
       "회계년도                     0\n",
       "누적수익성비율                  0\n",
       "TMD                      0\n",
       "abs(영업현금흐름-당기순이익)/매출액    0\n",
       "순운전자본비율                  0\n",
       "금융비용부담률                  0\n",
       "WW지수                     0\n",
       "target_3                 0\n",
       "dtype: int64"
      ]
     },
     "execution_count": 30,
     "metadata": {},
     "output_type": "execute_result"
    }
   ],
   "source": [
    "df.isna().sum()"
   ]
  },
  {
   "cell_type": "code",
   "execution_count": null,
   "metadata": {},
   "outputs": [],
   "source": [
    "# LR\n",
    "\n",
    "def sigmoid(z):\n",
    "    return 1 / (1 + np.exp(-z))\n",
    "\n",
    "df[\"Z\"] = (df[\"abs(영업현금흐름-당기순이익)/매출액\"]*2.516516) + (df[\"금융비용부담률\"]*0.077222) + (df[\"WW지수\"]*0.179561)+(df[\"누적수익성비율\"]*-1.360175) + (df[\"TMD\"]*0.647083) + (df[\"순운전자본비율\"]*-0.016068)+ 4.10454281\n",
    "\n",
    "df[\"proba\"] = sigmoid(df[\"Z\"]) *100\n",
    "df[\"proba\"].describe()"
   ]
  },
  {
   "cell_type": "code",
   "execution_count": 32,
   "metadata": {},
   "outputs": [],
   "source": [
    "df_12 = df[df[\"회계년도\"] == 2012].reset_index(drop=True)\n",
    "df_13 = df[df[\"회계년도\"] == 2013].reset_index(drop=True)\n",
    "df_14 = df[df[\"회계년도\"] == 2014].reset_index(drop=True)\n",
    "df_15 = df[df[\"회계년도\"] == 2015].reset_index(drop=True)\n",
    "df_16 = df[df[\"회계년도\"] == 2016].reset_index(drop=True)\n",
    "df_17 = df[df[\"회계년도\"] == 2017].reset_index(drop=True)\n",
    "df_18 = df[df[\"회계년도\"] == 2018].reset_index(drop=True)\n",
    "df_19 = df[df[\"회계년도\"] == 2019].reset_index(drop=True)\n",
    "df_20 = df[df[\"회계년도\"] == 2020].reset_index(drop=True)\n",
    "df_21 = df[df[\"회계년도\"] == 2021].reset_index(drop=True)\n",
    "df_22 = df[df[\"회계년도\"] == 2022].reset_index(drop=True)"
   ]
  },
  {
   "cell_type": "code",
   "execution_count": 33,
   "metadata": {},
   "outputs": [
    {
     "data": {
      "text/html": [
       "<div>\n",
       "<style scoped>\n",
       "    .dataframe tbody tr th:only-of-type {\n",
       "        vertical-align: middle;\n",
       "    }\n",
       "\n",
       "    .dataframe tbody tr th {\n",
       "        vertical-align: top;\n",
       "    }\n",
       "\n",
       "    .dataframe thead th {\n",
       "        text-align: right;\n",
       "    }\n",
       "</style>\n",
       "<table border=\"1\" class=\"dataframe\">\n",
       "  <thead>\n",
       "    <tr style=\"text-align: right;\">\n",
       "      <th></th>\n",
       "      <th>임계_ls</th>\n",
       "    </tr>\n",
       "  </thead>\n",
       "  <tbody>\n",
       "    <tr>\n",
       "      <th>2012</th>\n",
       "      <td>55.483155</td>\n",
       "    </tr>\n",
       "    <tr>\n",
       "      <th>2013</th>\n",
       "      <td>47.049584</td>\n",
       "    </tr>\n",
       "    <tr>\n",
       "      <th>2014</th>\n",
       "      <td>60.026730</td>\n",
       "    </tr>\n",
       "    <tr>\n",
       "      <th>2015</th>\n",
       "      <td>49.655280</td>\n",
       "    </tr>\n",
       "    <tr>\n",
       "      <th>2016</th>\n",
       "      <td>48.118167</td>\n",
       "    </tr>\n",
       "    <tr>\n",
       "      <th>2017</th>\n",
       "      <td>37.916240</td>\n",
       "    </tr>\n",
       "    <tr>\n",
       "      <th>2018</th>\n",
       "      <td>49.971648</td>\n",
       "    </tr>\n",
       "    <tr>\n",
       "      <th>2019</th>\n",
       "      <td>67.996760</td>\n",
       "    </tr>\n",
       "    <tr>\n",
       "      <th>2020</th>\n",
       "      <td>66.249464</td>\n",
       "    </tr>\n",
       "    <tr>\n",
       "      <th>2021</th>\n",
       "      <td>76.984759</td>\n",
       "    </tr>\n",
       "    <tr>\n",
       "      <th>2022</th>\n",
       "      <td>NaN</td>\n",
       "    </tr>\n",
       "  </tbody>\n",
       "</table>\n",
       "</div>"
      ],
      "text/plain": [
       "          임계_ls\n",
       "2012  55.483155\n",
       "2013  47.049584\n",
       "2014  60.026730\n",
       "2015  49.655280\n",
       "2016  48.118167\n",
       "2017  37.916240\n",
       "2018  49.971648\n",
       "2019  67.996760\n",
       "2020  66.249464\n",
       "2021  76.984759\n",
       "2022        NaN"
      ]
     },
     "execution_count": 33,
     "metadata": {},
     "output_type": "execute_result"
    }
   ],
   "source": [
    "df_ls = [df_12, df_13, df_14, df_15, df_16, df_17, df_18, df_19, df_20, df_21, df_22]\n",
    "\n",
    "임계_ls = []\n",
    "for i in df_ls:\n",
    "    정상기업점수평균 = np.mean(i[i[\"target_3\"]==0][\"proba\"])\n",
    "    부실기업점수평균 = np.mean(i[i[\"target_3\"]==1][\"proba\"])\n",
    "\n",
    "    정상기업수 = len(i[i[\"target_3\"]==0].index)\n",
    "    부실기업수 = len(i[i[\"target_3\"]==1].index)\n",
    "\n",
    "    임계점 = ((부실기업수 * 정상기업점수평균) + (정상기업수 * 부실기업점수평균)) / (정상기업수 + 부실기업수)\n",
    "    임계_ls.append(임계점)\n",
    "\n",
    "\n",
    "\n",
    "임계_df =pd.DataFrame({\"임계_ls\":임계_ls}, index=[\"2012\", \"2013\",\"2014\",\"2015\",\"2016\",\"2017\",\"2018\",\"2019\",\"2020\",\"2021\",\"2022\"])\n",
    "임계_df\n"
   ]
  },
  {
   "cell_type": "code",
   "execution_count": 34,
   "metadata": {},
   "outputs": [
    {
     "name": "stdout",
     "output_type": "stream",
     "text": [
      "임계_ls    100.0\n",
      "Name: 2012, dtype: float64 임계_ls    105.25879\n",
      "dtype: float64 임계_ls    74.512558\n",
      "dtype: float64 임계_ls    51.937893\n",
      "dtype: float64 임계_ls    65.058651\n",
      "dtype: float64 임계_ls    80.719228\n",
      "dtype: float64 임계_ls    82.916197\n",
      "dtype: float64 임계_ls    96.941942\n",
      "dtype: float64 임계_ls    88.959947\n",
      "dtype: float64 임계_ls    110.561477\n",
      "dtype: float64\n"
     ]
    },
    {
     "data": {
      "image/png": "[encoded data removed]",
      "text/plain": [
       "<Figure size 2000x1000 with 1 Axes>"
      ]
     },
     "metadata": {},
     "output_type": "display_data"
    }
   ],
   "source": [
    "## 회계년도 다음3월말 BBB회사채3년금리\n",
    "# 임계_df.loc['2011','임계_ls'] = 8.31\n",
    "임계_df = pd.DataFrame()\n",
    "\n",
    "임계_df.loc['2012','임계_ls'] = 7.13\n",
    "임계_df.loc['2013','임계_ls'] = 7.74\n",
    "임계_df.loc['2014','임계_ls'] = 6.51\n",
    "임계_df.loc['2015','임계_ls'] = 6.56\n",
    "임계_df.loc['2016','임계_ls'] = 6.95\n",
    "임계_df.loc['2017','임계_ls'] = 7.43\n",
    "임계_df.loc['2018','임계_ls'] = 6.70\n",
    "임계_df.loc['2019','임계_ls'] = 6.25\n",
    "임계_df.loc['2020','임계_ls'] = 6.22\n",
    "임계_df.loc['2021','임계_ls'] = 7.84\n",
    "임계_df.loc['2022','임계_ls'] = 9.10\n",
    "\n",
    "# # 각 연도의 데이터 수 계산\n",
    "n_12 = len(df_12)\n",
    "n_13 = len(df_13)\n",
    "n_14 = len(df_14)\n",
    "n_15 = len(df_15)\n",
    "n_16 = len(df_16)\n",
    "n_17 = len(df_17)\n",
    "n_18 = len(df_18)\n",
    "n_19 = len(df_19)\n",
    "n_20 = len(df_20)\n",
    "n_21 = len(df_21)\n",
    "n_22 = len(df_22)\n",
    "\n",
    "# 해당 년도 전체 기업 프로바 합계\n",
    "\n",
    "sum_12proba =  df_12[\"proba\"].sum() * 임계_df.iloc[0] \n",
    "sum_13proba =  df_13[\"proba\"].sum() * 임계_df.iloc[1]\n",
    "sum_14proba =  df_14[\"proba\"].sum() * 임계_df.iloc[2] \n",
    "sum_15proba =  df_15[\"proba\"].sum() * 임계_df.iloc[3] \n",
    "sum_16proba =  df_16[\"proba\"].sum() * 임계_df.iloc[4] \n",
    "sum_17proba =  df_17[\"proba\"].sum() * 임계_df.iloc[5] \n",
    "sum_18proba =  df_18[\"proba\"].sum() * 임계_df.iloc[6] \n",
    "sum_19proba =  df_19[\"proba\"].sum() * 임계_df.iloc[7] \n",
    "sum_20proba =  df_20[\"proba\"].sum() * 임계_df.iloc[8] \n",
    "sum_21proba =  df_21[\"proba\"].sum() * 임계_df.iloc[9] \n",
    "sum_22proba =  df_22[\"proba\"].sum() * 임계_df.iloc[10] \n",
    "\n",
    "\n",
    "index_12 = ((sum_12proba/n_12)/(sum_12proba/n_12))*100\n",
    "index_13 = ((sum_13proba/n_13)/(sum_12proba/n_12))*100\n",
    "index_14 = ((sum_14proba/n_14)/(sum_12proba/n_12))*100\n",
    "index_15 = ((sum_15proba/n_15)/(sum_12proba/n_12))*100\n",
    "index_16 = ((sum_16proba/n_16)/(sum_12proba/n_12))*100\n",
    "index_17 = ((sum_17proba/n_17)/(sum_12proba/n_12))*100\n",
    "index_18 = ((sum_18proba/n_18)/(sum_12proba/n_12))*100\n",
    "index_19 = ((sum_19proba/n_19)/(sum_12proba/n_12))*100\n",
    "index_20 = ((sum_20proba/n_20)/(sum_12proba/n_12))*100\n",
    "index_21 = ((sum_21proba/n_21)/(sum_12proba/n_12))*100\n",
    "index_22 = ((sum_22proba/n_21)/(sum_12proba/n_12))*100\n",
    "\n",
    "\n",
    "print(index_12, index_13,index_14,index_15,index_16,index_17,index_18,index_19,index_20,index_21)\n",
    "\n",
    "# x축, y축 데이터 설정\n",
    "years = [2012, 2013, 2014, 2015, 2016, 2017, 2018, 2019, 2020, 2021,2022]\n",
    "kosdap_bankruptcy_index_of_sum = [index_12,index_13,index_14,index_15,index_16,index_17,index_18,index_19,index_20,index_21,index_22]\n",
    "\n",
    "df_ls = [df_12, df_13, df_14, df_15, df_16, df_17, df_18, df_19, df_20, df_21,df_22]\n",
    "\n",
    "# ls = []\n",
    "# for i in df_ls:\n",
    "#     타겟수 = len(np.unique(i[i[\"target_3\"]==1][\"회사명\"]))\n",
    "#     ls.append(타겟수)\n",
    "\n",
    "ls= [  33, 30, 21, 13, 8, 22,  33,  53, 36, 51]\n",
    "타겟수_df =pd.DataFrame({\"ls\":ls}, index=[\"2012\", \"2013\",\"2014\",\"2015\",\"2016\",\"2017\",\"2018\",\"2019\",\"2020\",\"2021\"])\n",
    "# 타겟수_df\n",
    "\n",
    "\n",
    "\n",
    "# 그래프 생성\n",
    "\n",
    "plt.figure(figsize=(20, 10))\n",
    "plt.plot(years, kosdap_bankruptcy_index_of_sum, marker='o',label = \"SOBI\")\n",
    "plt.plot([2021,2022], [index_21,index_22], color= \"#FF0000\",marker='o',label = \"SOBI_예측\")\n",
    "# plt.plot(years,임계_df[\"임계_ls\"],marker='x',label = \"임계\")\n",
    "plt.xlabel('Year')\n",
    "plt.bar(\n",
    "타겟수_df.index.astype(\"int\"), 타겟수_df[\"ls\"], color = \"royalblue\",alpha = 0.4,label='부실기업 수')\n",
    "plt.ylabel('SOBI')\n",
    "plt.title('Sum_Of_Bankruptcy_Index')\n",
    "plt.grid(True)\n",
    "plt.legend()\n",
    "plt.xticks(np.arange(2012,2023,1))\n",
    "plt.axhline(100, linestyle = \":\", color = \"r\")\n",
    "\n",
    "# # 각 지점의 값을 그래프에 표시\n",
    "\n",
    "for i, v in enumerate(타겟수_df[\"ls\"]):\n",
    "    plt.text(years[i], v+0.5, str(v), ha='center', va='bottom', fontsize=10)\n",
    "\n",
    "plt.show()\n",
    "\n",
    "\n"
   ]
  }
 ],
 "metadata": {
  "kernelspec": {
   "display_name": "Python 3",
   "language": "python",
   "name": "python3"
  },
  "language_info": {
   "codemirror_mode": {
    "name": "ipython",
    "version": 3
   },
   "file_extension": ".py",
   "mimetype": "text/x-python",
   "name": "python",
   "nbconvert_exporter": "python",
   "pygments_lexer": "ipython3",
   "version": "3.10.9"
  },
  "orig_nbformat": 4
 },
 "nbformat": 4,
 "nbformat_minor": 2
}
